{
 "cells": [
  {
   "cell_type": "markdown",
   "metadata": {},
   "source": [
    "## Problem 5"
   ]
  },
  {
   "cell_type": "code",
   "execution_count": 95,
   "metadata": {
    "collapsed": true
   },
   "outputs": [],
   "source": [
    " # Import packages\n",
    "import numpy as np\n",
    "import pandas as pd\n",
    "import scipy.stats as sts\n",
    "import os\n",
    "import matplotlib.pyplot as plt\n",
    "import scipy.optimize as opt\n",
    "import warnings\n",
    "warnings.filterwarnings('ignore')\n",
    "from scipy import special\n",
    "from scipy.integrate import quad"
   ]
  },
  {
   "cell_type": "code",
   "execution_count": 96,
   "metadata": {
    "collapsed": true
   },
   "outputs": [],
   "source": [
    "# Load data\n",
    "data = np.loadtxt('data/MacroSeries.txt', delimiter=\",\")\n",
    "c = data[:, 0]\n",
    "k = data[:, 1]\n",
    "w = data[:, 2]\n",
    "r = data[:, 3]"
   ]
  },
  {
   "cell_type": "code",
   "execution_count": 97,
   "metadata": {
    "collapsed": true
   },
   "outputs": [],
   "source": [
    "def data_moments(c, k):\n",
    "    mean_c = c.mean()\n",
    "    mean_k = k.mean()\n",
    "    var_c = c.var()\n",
    "    var_k = k.var()\n",
    "    corr_ck = np.corrcoef(c, k)[0, 1]\n",
    "    corr_k = np.corrcoef(k[:-1], k[1:])[0, 1]\n",
    "    \n",
    "    return mean_c, mean_k, var_c, var_k, corr_ck, corr_k\n",
    "\n",
    "meank = k.mean()\n",
    "def simulate_moments(alpha, beta, rho, mu, sigma, T=100, S=1000):\n",
    "    z1 = mu\n",
    "    k1 = meank\n",
    "    epsilon = np.random.normal(0, scale=sigma, size=(S, T)) # Simulate shocks\n",
    "    zmat = np.zeros((S, T))\n",
    "    kmat = np.zeros((S, T))\n",
    "    cmat = np.zeros((S, T))\n",
    "    zmat[:, 0] = z1 * np.ones(S)\n",
    "    kmat[:, 0] = k1 * np.ones(S)\n",
    "    \n",
    "    for i in range(1, T):\n",
    "        zmat[:, i] = rho * zmat[:, i-1] + (1 - rho) * mu + epsilon[:, i]\n",
    "        kmat[:, i] = alpha * beta * np.exp(zmat[:, i]) + kmat[:, i-1] ** alpha\n",
    "    wmat = (1 - alpha) * np.exp(zmat) * kmat ** alpha\n",
    "    rmat = alpha * np.exp(zmat) * kmat ** (alpha - 1)\n",
    "    \n",
    "    cmat[:, 0] = wmat[:, 0] + rmat[:, 0] * kmat[:, 0]\n",
    "    for i in range(1, T):\n",
    "        cmat[:, i] = wmat[:, i] + rmat[:, i] * kmat[:, i] - kmat[:, i-1]\n",
    "    \n",
    "    smean_c = cmat.mean(axis=1).mean()\n",
    "    smean_k = kmat.mean(axis=1).mean()\n",
    "    svar_c = cmat.var(axis=1).mean()\n",
    "    svar_k = kmat.var(axis=1).mean()\n",
    "    corr_ck = np.zeros(T)\n",
    "    corr_k = np.zeros(T - 1)\n",
    "    \n",
    "    for i in range(T):\n",
    "        corr_ck[i] = np.corrcoef(cmat[:, i], kmat[:, i])[0, 1]\n",
    "    for i in range(T-1):\n",
    "        corr_k[i] = np.corrcoef(kmat[:-1, i], kmat[1:, i])[0, 1] \n",
    "    scorr_ck = corr_ck[2:].mean()\n",
    "    scorr_k = corr_k.mean()\n",
    "    \n",
    "    return smean_c, smean_k, svar_c, svar_k, scorr_ck, scorr_k\n",
    "\n",
    "def err_vec(c, k, w, r, alpha, beta, rho, mu, sigma, simple = False):\n",
    "    mo_moments = np.array(simulate_moments(alpha, beta, rho, mu, sigma))\n",
    "    da_moments = np.array(data_moments(c, k))\n",
    "    if simple:\n",
    "        err_vec = (mo_moments - da_moments)\n",
    "    else:\n",
    "        err_vec = ((mo_moments - da_moments) / da_moments)\n",
    "    return err_vec\n",
    "\n",
    "def crit(params, *args):\n",
    "    alpha, beta, rho, mu, sigma = params\n",
    "    c, k, w, r, weight  = args\n",
    "    err = err_vec(c, k, w, r, alpha, beta, rho, mu, sigma)\n",
    "    crit_val = np.dot(np.dot(err.T, weight), err) \n",
    "    \n",
    "    return crit_val"
   ]
  },
  {
   "cell_type": "code",
   "execution_count": 98,
   "metadata": {
    "scrolled": true
   },
   "outputs": [
    {
     "name": "stdout",
     "output_type": "stream",
     "text": [
      "      fun: 4.43659710457651\n",
      " hess_inv: <5x5 LbfgsInvHessProduct with dtype=float64>\n",
      "      jac: array([  725466.56493468, -2862257.47858779,  3510283.20730906,\n",
      "         564434.78779382,    19342.567942  ])\n",
      "  message: b'CONVERGENCE: REL_REDUCTION_OF_F_<=_FACTR*EPSMCH'\n",
      "     nfev: 156\n",
      "      nit: 2\n",
      "   status: 0\n",
      "  success: True\n",
      "        x: array([ 0.39999963,  0.89999937,  0.7999987 ,  0.19999935,  0.2000005 ])\n"
     ]
    }
   ],
   "source": [
    "weight = np.identity(6)\n",
    "alpha_init = 0.4\n",
    "beta_init = 0.9\n",
    "rho_init = 0.8\n",
    "mu_init = 0.2\n",
    "sigma_init = 0.2\n",
    "\n",
    "params_init = (alpha_init, beta_init, rho_init, mu_init, sigma_init)\n",
    "bnds = ((0.01, 0.99), (0.01, 0.99), (-0.99, 0.99), (-0.5, 1), (0.001, 1))\n",
    "args = (c, k, w, r, weight)\n",
    "results = opt.minimize(crit, params_init, args=(args), bounds = bnds, method = 'L-BFGS-B')\n",
    "print(results)"
   ]
  },
  {
   "cell_type": "markdown",
   "metadata": {
    "collapsed": true
   },
   "source": [
    "It seems like the function converges most of the time, to the initial guesses..."
   ]
  }
 ],
 "metadata": {
  "kernelspec": {
   "display_name": "Python 3",
   "language": "python",
   "name": "python3"
  },
  "language_info": {
   "codemirror_mode": {
    "name": "ipython",
    "version": 3
   },
   "file_extension": ".py",
   "mimetype": "text/x-python",
   "name": "python",
   "nbconvert_exporter": "python",
   "pygments_lexer": "ipython3",
   "version": "3.6.1"
  }
 },
 "nbformat": 4,
 "nbformat_minor": 2
}
