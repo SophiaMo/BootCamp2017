{
 "cells": [
  {
   "cell_type": "markdown",
   "metadata": {},
   "source": [
    "## Problem 2\n",
    "## 2(a) & (b)"
   ]
  },
  {
   "cell_type": "code",
   "execution_count": 27,
   "metadata": {
    "collapsed": true
   },
   "outputs": [],
   "source": [
    "# Import packages\n",
    "import numpy as np\n",
    "import pandas as pd\n",
    "import scipy.stats as sts\n",
    "import os\n",
    "import matplotlib.pyplot as plt\n",
    "import scipy.optimize as opt\n",
    "import warnings\n",
    "warnings.filterwarnings('ignore')\n",
    "from scipy import special\n",
    "from scipy.stats import norm"
   ]
  },
  {
   "cell_type": "code",
   "execution_count": 28,
   "metadata": {},
   "outputs": [
    {
     "name": "stdout",
     "output_type": "stream",
     "text": [
      "10520847.8208\n",
      "7472544.55731\n",
      "10445210.0925\n",
      "1.01694730195\n"
     ]
    }
   ],
   "source": [
    "# Load data\n",
    "data = np.loadtxt('data/MacroSeries.txt', delimiter=\",\")\n",
    "beta = 0.99\n",
    "c = data[:, 0]\n",
    "k = data[:, 1]\n",
    "w = data[:, 2]\n",
    "r = data[:, 3]\n",
    "print(c.mean())\n",
    "print(k.mean())\n",
    "print(w.mean())\n",
    "print(r.mean())"
   ]
  },
  {
   "cell_type": "code",
   "execution_count": 29,
   "metadata": {
    "collapsed": true
   },
   "outputs": [],
   "source": [
    "# Define functions\n",
    "def get_z1(w, k, alpha):\n",
    "\n",
    "    z = np.log(w) - np.log(1 - alpha) - alpha * np.log(k)\n",
    "    \n",
    "    return z\n",
    "\n",
    "def get_z2(r, k, alpha):\n",
    "    \n",
    "    z = np.log(r) - np.log(alpha) - (alpha - 1) * np.log(k)\n",
    "    \n",
    "    return z\n",
    "\n",
    "def logpdf(z, rho, mu, sigma):\n",
    "    z[0] = mu\n",
    "    mean = rho * z[:-1] + (1 - rho) * mu\n",
    "    logpdf_vals = norm.logpdf(z, np.hstack([mu, mean]), sigma)\n",
    "    \n",
    "    return logpdf_vals\n",
    "\n",
    "def crit1(params, *args):\n",
    "   \n",
    "    alpha, rho, mu, sigma = params\n",
    "    w, k  = args\n",
    "    neglogpdf_vals = -(logpdf(get_z1(w, k, alpha), rho, mu, sigma).sum())\n",
    "    \n",
    "    return neglogpdf_vals\n",
    "\n",
    "def crit2(params, *args):\n",
    "   \n",
    "    alpha, rho, mu, sigma = params\n",
    "    r, k  = args\n",
    "    neglogpdf_vals = -(logpdf(get_z2(r, k, alpha), rho, mu, sigma).sum())\n",
    "    \n",
    "    return neglogpdf_vals"
   ]
  },
  {
   "cell_type": "code",
   "execution_count": 30,
   "metadata": {},
   "outputs": [
    {
     "name": "stdout",
     "output_type": "stream",
     "text": [
      "      fun: -96.831236726610783\n",
      " hess_inv: <4x4 LbfgsInvHessProduct with dtype=float64>\n",
      "      jac: array([ 0.00439826, -0.00099334,  0.08546124, -0.00680274])\n",
      "  message: b'CONVERGENCE: REL_REDUCTION_OF_F_<=_FACTR*EPSMCH'\n",
      "     nfev: 175\n",
      "      nit: 18\n",
      "   status: 0\n",
      "  success: True\n",
      "        x: array([ 0.42489926,  0.74681636,  9.99267974,  0.09188164])\n"
     ]
    },
    {
     "data": {
      "text/plain": [
       "array([[  5.50347212e-03,   1.77295994e-02,  -6.82994418e-02,\n",
       "          5.40152352e-04],\n",
       "       [  1.77295994e-02,   6.14276700e-01,   5.61545298e-02,\n",
       "          1.59405566e-02],\n",
       "       [ -6.82994418e-02,   5.61545298e-02,   9.95797306e-01,\n",
       "          2.70918677e-04],\n",
       "       [  5.40152352e-04,   1.59405566e-02,   2.70918677e-04,\n",
       "          4.83939365e-04]])"
      ]
     },
     "execution_count": 30,
     "metadata": {},
     "output_type": "execute_result"
    }
   ],
   "source": [
    "alpha_init = 0.5\n",
    "rho_init = 0.7\n",
    "mu_init = 10\n",
    "sigma_init = 0.1\n",
    "params_init = (alpha_init, rho_init, mu_init, sigma_init)\n",
    "\n",
    "args1 = (w, k)\n",
    "args2 = (r, k)\n",
    "bnds = ((1e-6, 1-1e-6), (-1+1e-6, 1-1e-6),(1e-6, None), (1e-6, None))\n",
    "\n",
    "results1 = opt.minimize(crit1, params_init, args=(args1), method ='L-BFGS-B', bounds=bnds)\n",
    "alpha1, rho1, mu1, sigma1 = results1.x\n",
    "print(results1)\n",
    "# Inverse Hessian\n",
    "results1.hess_inv.todense()"
   ]
  },
  {
   "cell_type": "code",
   "execution_count": 31,
   "metadata": {},
   "outputs": [
    {
     "name": "stdout",
     "output_type": "stream",
     "text": [
      "      fun: -96.862599913884907\n",
      " hess_inv: <4x4 LbfgsInvHessProduct with dtype=float64>\n",
      "      jac: array([ 0.05567102, -0.00134861,  0.00307381,  0.03353477])\n",
      "  message: b'CONVERGENCE: REL_REDUCTION_OF_F_<=_FACTR*EPSMCH'\n",
      "     nfev: 325\n",
      "      nit: 44\n",
      "   status: 0\n",
      "  success: True\n",
      "        x: array([ 0.48640087,  0.70182713,  8.86076137,  0.09185453])\n"
     ]
    },
    {
     "data": {
      "text/plain": [
       "array([[  5.54808616e+01,  -1.15373987e+02,  -1.00639304e+03,\n",
       "         -3.77172198e-01],\n",
       "       [ -1.15373987e+02,   2.41943157e+02,   2.09299559e+03,\n",
       "          8.82038069e-01],\n",
       "       [ -1.00639304e+03,   2.09299559e+03,   1.82554466e+04,\n",
       "          6.84944269e+00],\n",
       "       [ -3.77172198e-01,   8.82038068e-01,   6.84944269e+00,\n",
       "          7.53550783e-03]])"
      ]
     },
     "execution_count": 31,
     "metadata": {},
     "output_type": "execute_result"
    }
   ],
   "source": [
    "results2 = opt.minimize(crit2, params_init, args=(args2), method ='L-BFGS-B', bounds=bnds)\n",
    "alpha2, rho2, mu2, sigma2 = results2.x\n",
    "print(results2)\n",
    "# Inverse Hessian\n",
    "results2.hess_inv.todense()"
   ]
  },
  {
   "cell_type": "markdown",
   "metadata": {},
   "source": [
    "## 2(c)"
   ]
  },
  {
   "cell_type": "code",
   "execution_count": 33,
   "metadata": {},
   "outputs": [
    {
     "name": "stdout",
     "output_type": "stream",
     "text": [
      "Probability is: 1.0\n"
     ]
    }
   ],
   "source": [
    "z_star = get_z2(1, 7500000, alpha2)\n",
    "mean = rho2 * 10 + (1 - rho2) * mu2\n",
    "print('Probability is: ' + str(1-norm.cdf(z_star, mean, sigma2)))"
   ]
  }
 ],
 "metadata": {
  "kernelspec": {
   "display_name": "Python 3",
   "language": "python",
   "name": "python3"
  },
  "language_info": {
   "codemirror_mode": {
    "name": "ipython",
    "version": 3
   },
   "file_extension": ".py",
   "mimetype": "text/x-python",
   "name": "python",
   "nbconvert_exporter": "python",
   "pygments_lexer": "ipython3",
   "version": "3.6.1"
  }
 },
 "nbformat": 4,
 "nbformat_minor": 2
}
