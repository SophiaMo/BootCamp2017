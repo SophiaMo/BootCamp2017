{
 "cells": [
  {
   "cell_type": "markdown",
   "metadata": {},
   "source": [
    "## Problem 4(a)"
   ]
  },
  {
   "cell_type": "code",
   "execution_count": 72,
   "metadata": {
    "collapsed": true
   },
   "outputs": [],
   "source": [
    "# Import packages\n",
    "import numpy as np\n",
    "import pandas as pd\n",
    "import scipy.stats as sts\n",
    "import os\n",
    "import matplotlib.pyplot as plt\n",
    "import scipy.optimize as opt\n",
    "import warnings\n",
    "warnings.filterwarnings('ignore')\n",
    "from scipy import special\n",
    "from scipy.integrate import quad"
   ]
  },
  {
   "cell_type": "code",
   "execution_count": 73,
   "metadata": {
    "collapsed": true
   },
   "outputs": [],
   "source": [
    "# Load data\n",
    "data = np.loadtxt('data/MacroSeries.txt', delimiter=\",\")\n",
    "c = data[:, 0]\n",
    "k = data[:, 1]\n",
    "w = data[:, 2]\n",
    "r = data[:, 3]"
   ]
  },
  {
   "cell_type": "code",
   "execution_count": 74,
   "metadata": {},
   "outputs": [],
   "source": [
    "def get_z(r, k, alpha):\n",
    "    \n",
    "    z = np.log(r) - np.log(alpha) - (alpha - 1) * np.log(k)\n",
    "    \n",
    "    return z\n",
    "\n",
    "def data_moments(c, k, w, r, alpha, beta, rho, mu):\n",
    "    \n",
    "    z = get_z(r, k, alpha)\n",
    "    A = z[1:] - rho * z[:-1] - (1 - rho) * mu\n",
    "    B = (z[1:] - rho * z[:-1] - (1 - rho) * mu) * z[:-1]\n",
    "    C = beta * alpha * np.exp(z[1:]) * k[1:] ** (alpha - 1) * c[:-1]/c[1:] - 1\n",
    "    D = (beta * alpha * np.exp(z[1:]) * k[1:] ** (alpha - 1) * c[:-1]/c[1:] - 1) * w[:-1]\n",
    "    \n",
    "    return A.mean(), B.mean(), C.mean(), D.mean()\n",
    "\n",
    "def err_vec(c, k, w, r, alpha, beta, rho, mu, simple = True):\n",
    "    mo_moments = np.zeros(4)\n",
    "    da_moments = np.array(data_moments(c, k, w, r, alpha, beta, rho, mu)).reshape(1, 4)\n",
    "    if simple:\n",
    "        err_vec = (mo_moments - da_moments)[0]\n",
    "    else:\n",
    "        err_vec = (mo_moments - da_moments) / da_moments\n",
    "    return err_vec\n",
    "\n",
    "def crit(params, *args):\n",
    "    alpha, beta, rho, mu = params\n",
    "    c, k, w, r, weight  = args\n",
    "    err = err_vec(c, k, w, r, alpha, beta, rho, mu)\n",
    "    crit_val = np.dot(np.dot(err.T, weight), err) \n",
    "    \n",
    "    return crit_val"
   ]
  },
  {
   "cell_type": "code",
   "execution_count": 75,
   "metadata": {},
   "outputs": [
    {
     "name": "stdout",
     "output_type": "stream",
     "text": [
      "      fun: 0.0027665192987751212\n",
      " hess_inv: <4x4 LbfgsInvHessProduct with dtype=float64>\n",
      "      jac: array([ -2.73431460e-03,   1.48191769e+02,   1.88093898e-05,\n",
      "        -1.11645992e-03])\n",
      "  message: b'CONVERGENCE: REL_REDUCTION_OF_F_<=_FACTR*EPSMCH'\n",
      "     nfev: 275\n",
      "      nit: 35\n",
      "   status: 0\n",
      "  success: True\n",
      "        x: array([ 0.53416437,  0.99      ,  0.78108453,  8.00523255])\n"
     ]
    }
   ],
   "source": [
    "weight = np.identity(4)\n",
    "alpha_init = 0.42\n",
    "beta_init = 0.9\n",
    "rho_init = 0.74\n",
    "mu_init = 8\n",
    "\n",
    "params_init = (alpha_init, beta_init, rho_init, mu_init)\n",
    "bnds = ((1e-5, 1-1e-5), (1e-5, 1-1e-5), (-1+1e-5, 1-1e-5), (1e-5, None))\n",
    "args = (c, k, w, r, weight)\n",
    "results = opt.minimize(crit, params_init, args=(args), bounds = bnds, method = 'L-BFGS-B')\n",
    "print(results)"
   ]
  },
  {
   "cell_type": "markdown",
   "metadata": {},
   "source": [
    "It seems that the values of $\\alpha, \\rho$, and especially $\\mu$ change a lot based on initial guesses."
   ]
  }
 ],
 "metadata": {
  "kernelspec": {
   "display_name": "Python 3",
   "language": "python",
   "name": "python3"
  },
  "language_info": {
   "codemirror_mode": {
    "name": "ipython",
    "version": 3
   },
   "file_extension": ".py",
   "mimetype": "text/x-python",
   "name": "python",
   "nbconvert_exporter": "python",
   "pygments_lexer": "ipython3",
   "version": "3.6.1"
  }
 },
 "nbformat": 4,
 "nbformat_minor": 2
}
