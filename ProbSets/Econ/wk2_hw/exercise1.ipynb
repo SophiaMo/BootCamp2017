{
 "cells": [
  {
   "cell_type": "markdown",
   "metadata": {},
   "source": [
    "Exercise 1, Problem 1\n",
    "Using method of successive iteration:"
   ]
  },
  {
   "cell_type": "code",
   "execution_count": 1,
   "metadata": {},
   "outputs": [
    {
     "name": "stdout",
     "output_type": "stream",
     "text": [
      "[[ -0.8955219 ]\n",
      " [ 13.34328354]\n",
      " [ 45.64179008]]\n"
     ]
    }
   ],
   "source": [
    "import numpy as np\n",
    "import matplotlib.pyplot as plt\n",
    "\n",
    "A = [[0.6, 0.1, -0.3],\n",
    "     [0.5, -0.4, 0.2],\n",
    "     [1.0, -0.2, 1.1]]\n",
    "\n",
    "b = [[12],\n",
    "     [10],\n",
    "     [-1]]\n",
    "\n",
    "A, b = map(np.asarray, (A, b))\n",
    "\n",
    "x_old = np.array([[1], [1], [1]])\n",
    "tol = 1e-13\n",
    "max_iter = 1000\n",
    "ite = 1\n",
    "error = 1\n",
    "\n",
    "while ite < max_iter and error > tol:\n",
    "    ite = ite + 1\n",
    "    x_new = np.dot(A, x_old) + b\n",
    "    error = (x_new[0] - x_old[0]) ** 2 + (x_new[1] - x_old[1]) ** 2 + (x_new[2] - x_old[2]) ** 2\n",
    "    x_old = x_new\n",
    "print(x_old)"
   ]
  },
  {
   "cell_type": "markdown",
   "metadata": {},
   "source": [
    "Using matrix algebra:"
   ]
  },
  {
   "cell_type": "code",
   "execution_count": 2,
   "metadata": {},
   "outputs": [
    {
     "name": "stdout",
     "output_type": "stream",
     "text": [
      "[[ -0.89552239]\n",
      " [ 13.34328358]\n",
      " [ 45.64179104]]\n"
     ]
    }
   ],
   "source": [
    "from numpy.linalg import inv\n",
    "\n",
    "x = np.dot(inv(np.identity(3) - A), b)\n",
    "print(x)"
   ]
  },
  {
   "cell_type": "markdown",
   "metadata": {},
   "source": [
    "Exercise 1, Problem 2"
   ]
  },
  {
   "cell_type": "markdown",
   "metadata": {
    "collapsed": true
   },
   "source": [
    "Consider the two hints given in the problem set:\n",
    "\n",
    "(1) $|\\sum_1^k x_k|<\\sum_1^k |x_k|$, which can be shown by iteratively applying the triangle inequality.  \n",
    "(2) $|max\\{a, x\\}-max\\{a, y\\}|\\leq |x-y| (*)$, which can be shown by checking different cases:  \n",
    "When $x\\leq a$ and $y\\leq a, (*)$ holds because the LHS is zero;  \n",
    "When $x\\geq a$ and $y\\geq a, (*)$ holds because the two sides are equal;  \n",
    "When $x\\leq a, y\\geq a, (*)$ holds because $|a-y|\\leq |x-y|$;  \n",
    "When $y\\leq a, x\\geq a, (*)$ holds because $|a-x|\\leq |x-y|$.  \n",
    "  \n",
    "Define an operator $T: T(x)=c (1-\\beta) + \\beta\\sum_{k=1}^K \\max \\left\\{w_k ,\\, \\bar w\\right\\} p_k$. Note that \\mathbb{R} with the usual metric is a complete metric space. Therefore, to use Banach's Fixed Point Theorem, we only have to show that T is a contraction:  \n",
    "$|T(x)-T(y)|=\\beta |(\\sum_1^K max\\{w_k, x\\} - \\sum_1^K max\\{w_k, y\\})p_k|$  \n",
    "$\\leq  \\beta \\sum_1^k |(max\\{w_k,x\\}-max\\{w_k,y\\})p_k|$, by hint 1  \n",
    "$\\leq \\beta p_k \\sum_1^k |p_k| |x-y| $, by hint 2  \n",
    "$= \\beta |x-y| $  \n",
    "Since $\\beta< 1$, T is indeed a contraction map.  \n",
    "The existence and uniqueness of a fixed point $\\bar w$ of $T$ tjis follows from Bananch's Fixed Point Theorem. This $\\bar w$ is the reservation wage by definition, since the agent is indifferent between working and not working."
   ]
  },
  {
   "cell_type": "markdown",
   "metadata": {},
   "source": [
    "Exercise 1, Problem 3"
   ]
  },
  {
   "cell_type": "code",
   "execution_count": 8,
   "metadata": {},
   "outputs": [
    {
     "name": "stdout",
     "output_type": "stream",
     "text": [
      "[ 1.45283019  1.45378311  1.45473604  1.45568897  1.45664189  1.45759482\n",
      "  1.45854774  1.45950067  1.46045359  1.46140652  1.46235944  1.46331237\n",
      "  1.46426529  1.46521822  1.46617115  1.46712407  1.468077    1.46902992\n",
      "  1.46998285  1.47093577  1.4718887   1.47284162  1.47379455  1.47474747\n",
      "  1.4757004   1.47665333  1.47760625  1.47855918  1.4795121   1.48046503\n",
      "  1.48141795  1.48237088  1.4833238   1.48427673  1.48522966  1.48618258\n",
      "  1.48713551  1.48808843  1.48904136  1.48999428  1.49094721  1.49190013\n",
      "  1.49285306  1.49380598  1.49475891  1.49571184  1.49666476  1.49761769\n",
      "  1.49857061  1.49952354  1.50505051  1.51515152  1.52525253  1.53535354\n",
      "  1.54545455  1.55555556  1.56565657  1.57575758  1.58585859  1.5959596\n",
      "  1.60606061  1.61616162  1.62626263  1.63636364  1.64646465  1.65656566\n",
      "  1.66666667  1.67676768  1.68686869  1.6969697   1.70707071  1.71717172\n",
      "  1.72727273  1.73737374  1.74747475  1.75757576  1.76767677  1.77777778\n",
      "  1.78787879  1.7979798   1.80808081  1.81818182  1.82828283  1.83838384\n",
      "  1.84848485  1.85858586  1.86868687  1.87878788  1.88888889  1.8989899\n",
      "  1.90909091  1.91919192  1.92929293  1.93939394  1.94949495  1.95959596\n",
      "  1.96969697  1.97979798  1.98989899  2.        ]\n"
     ]
    },
    {
     "data": {
      "image/png": "[encoded data removed]",
      "text/plain": [
       "<matplotlib.figure.Figure at 0x10d758ef0>"
      ]
     },
     "metadata": {},
     "output_type": "display_data"
    }
   ],
   "source": [
    "beta = 0.96\n",
    "w = np.array([0.5, 1.0, 1.5])\n",
    "p = np.array([0.2, 0.4, 0.4])\n",
    "c_vals = np.linspace(1, 2, 100) # unemployment benefit\n",
    "\n",
    "wbar_old = np.ones(100)\n",
    "wbar_new = np.ones(100)\n",
    "tol = 1e-13\n",
    "max_iter = 10000000\n",
    "ite = 1\n",
    "error = np.ones(100)\n",
    "\n",
    "for i in range(0,100):\n",
    "    while ite < max_iter and error[i] > tol:\n",
    "        ite = ite + 1\n",
    "        wbar = wbar_old[i] * np.ones((1, 3))\n",
    "        wbar_new[i] = c_vals[i] * (1 - beta) + beta * np.sum(np.maximum(wbar, w)* p)\n",
    "        error[i] = abs(wbar_old[i] - wbar_new[i])\n",
    "        wbar_old[i] = wbar_new[i]\n",
    "\n",
    "print(wbar_old)\n",
    "from matplotlib import pyplot as plt\n",
    "plt.plot(c_vals, wbar_old)\n",
    "plt.xlabel('unemployment benefit')\n",
    "plt.ylabel('reservation wage')\n",
    "plt.show()"
   ]
  },
  {
   "cell_type": "markdown",
   "metadata": {
    "collapsed": true
   },
   "source": [
    "As seen from the plot, reservation wage increases with unemployment benefit. This conincides with my intuition because as unemploymeny benefit increases, labor is more \"costly\" as compared to leisure, so a higher wage is needed to make the individuals choose to enter the labor force."
   ]
  }
 ],
 "metadata": {
  "kernelspec": {
   "display_name": "Python 3",
   "language": "python",
   "name": "python3"
  },
  "language_info": {
   "codemirror_mode": {
    "name": "ipython",
    "version": 3
   },
   "file_extension": ".py",
   "mimetype": "text/x-python",
   "name": "python",
   "nbconvert_exporter": "python",
   "pygments_lexer": "ipython3",
   "version": "3.6.1"
  }
 },
 "nbformat": 4,
 "nbformat_minor": 2
}
