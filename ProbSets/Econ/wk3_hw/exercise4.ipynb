{
 "cells": [
  {
   "cell_type": "markdown",
   "metadata": {},
   "source": [
    "Exercise 4"
   ]
  },
  {
   "cell_type": "code",
   "execution_count": 11,
   "metadata": {
    "collapsed": true
   },
   "outputs": [],
   "source": [
    "# Import packages\n",
    "import numpy as np\n",
    "import matplotlib.pyplot as plt\n",
    "import time\n",
    "import numba\n",
    "import pylab\n",
    "\n",
    "# to print plots inline\n",
    "%matplotlib inline"
   ]
  },
  {
   "cell_type": "code",
   "execution_count": 12,
   "metadata": {
    "collapsed": true
   },
   "outputs": [],
   "source": [
    "# Specify parameters\n",
    "# firms\n",
    "alpha_k = 0.29715\n",
    "alpha_l = 0.65\n",
    "delta = 0.154\n",
    "psi = 1.08\n",
    "z = 1\n",
    "sigma_z = 0.213\n",
    "mu = 0.000\n",
    "rho = 0.7605\n",
    "sizez = 9\n",
    "\n",
    "# households\n",
    "h = 6.616\n",
    "beta = 0.96\n",
    "\n",
    "r_bar = 1/beta - 1\n",
    "betafirm = 1/(1 + r_bar)\n"
   ]
  },
  {
   "cell_type": "code",
   "execution_count": 13,
   "metadata": {
    "collapsed": true
   },
   "outputs": [],
   "source": [
    "# Set up K-grid\n",
    "dens = 1\n",
    "\n",
    "# put in bounds here for the capital stock space\n",
    "kstar = ((((1 / betafirm - 1 + delta) * ((0.7 / alpha_l) **\n",
    "                                         (alpha_l / (1 - alpha_l)))) /\n",
    "         (alpha_k * (z ** (1 / (1 - alpha_l))))) **\n",
    "         ((1 - alpha_l) / (alpha_k + alpha_l - 1)))\n",
    "kbar = 2 * kstar\n",
    "lb_k = 0.001\n",
    "ub_k = kbar\n",
    "krat = np.log(lb_k / ub_k)\n",
    "numb = np.ceil(krat / np.log(1 - delta))\n",
    "K = np.zeros(int(numb * dens))\n",
    "# we'll create in a way where we pin down the upper bound - since\n",
    "# the distance will be small near the lower bound, we'll miss that by little\n",
    "for j in range(int(numb * dens)):\n",
    "    K[j] = ub_k * (1 - delta) ** (j / dens)\n",
    "kvec = K[::-1]\n",
    "sizek = kvec.shape[0]\n",
    "\n",
    "# Set up Z-grid\n",
    "import ar1_approx as ar1\n",
    "num_sigma = 4\n",
    "step = (num_sigma * sigma_z) / (sizez / 2)\n",
    "pi, zvec = ar1.rouwen(rho, mu, step, sizez)\n",
    "zvec = np.exp(zvec)"
   ]
  },
  {
   "cell_type": "code",
   "execution_count": 14,
   "metadata": {
    "collapsed": true
   },
   "outputs": [],
   "source": [
    "# operating profits, op\n",
    "@numba.jit\n",
    "def op(z, k, w):\n",
    "    op = ((1 - alpha_l) * ((alpha_l / w) ** (alpha_l / (1 - alpha_l))) * ((k ** alpha_k) ** (1 / (1 - alpha_l)))) * z ** (1/(1 - alpha_l))\n",
    "    return op\n",
    "\n",
    "# firm cash flow, e\n",
    "#numba.jit\n",
    "def flow(w):\n",
    "    e = np.zeros((sizek, sizek, sizez))\n",
    "    for i in range(sizek):\n",
    "        for j in range(sizek):\n",
    "            for k in range(sizez):\n",
    "                e[i, j, k] = (op(zvec[k], kvec[i], w) - kvec[j] + ((1 - delta) * kvec[i]) - \n",
    "                              ((psi / 2) * ((kvec[j] - ((1 - delta) * kvec[i])) ** 2)/ kvec[i]))\n",
    "    return e"
   ]
  },
  {
   "cell_type": "code",
   "execution_count": 15,
   "metadata": {
    "collapsed": true
   },
   "outputs": [],
   "source": [
    "# labor demand\n",
    "def get_ld(w, k, z):\n",
    "    ld = (alpha_l/w) ** (1/(1-alpha_l)) * z ** (1/ (1 - alpha_l)) * k ** (alpha_k/(1-alpha_l))\n",
    "    return ld"
   ]
  },
  {
   "cell_type": "code",
   "execution_count": 16,
   "metadata": {
    "collapsed": true
   },
   "outputs": [],
   "source": [
    "def c(w, k1, k):\n",
    "    c = (psi / 2) * ((k1 - (1 - delta) * k)/k) ** 2 * k\n",
    "    return c"
   ]
  },
  {
   "cell_type": "code",
   "execution_count": 17,
   "metadata": {
    "collapsed": true
   },
   "outputs": [],
   "source": [
    "# Define VFI function, which \n",
    "def VFI(w):\n",
    "    VFtol = 1e-6\n",
    "    VFdist = 7.0\n",
    "    VFmaxiter = 3000\n",
    "    V = np.zeros((sizek, sizez))  # initial guess of value function\n",
    "    Vmat = np.zeros((sizek, sizek, sizez))  # initialize Vmat matrix\n",
    "    VFiter = 1\n",
    "    \n",
    "    while VFdist > VFtol and VFiter < VFmaxiter:\n",
    "        TV = V\n",
    "        for i in range(sizek):  # loop over k\n",
    "            for j in range(sizek):  # loop over k'\n",
    "                for k in range(sizez): # loop over z\n",
    "                    Vmat[i, j, k] = (flow(w))[i, j, k] + betafirm * np.dot(V[j, :], pi[:, k])\n",
    "    \n",
    "        # iteration for graphing later\n",
    "        V = Vmat.max(axis=1)  # apply max operator to Vmat (to get V(k))\n",
    "\n",
    "        PF = np.argmax(Vmat, axis=1)  # find the index of the optimal k'\n",
    "        VFdist = (np.absolute(V - TV)).max()  # check distance between value\n",
    "        # function for this iteration and value function from past iteration\n",
    "        VFiter += 1\n",
    "    if VFiter < VFmaxiter:\n",
    "        print('Value function converged after this many iterations:', VFiter)\n",
    "        print('Time taken for convergence:' + str(end - start))\n",
    "    else:\n",
    "        print('Value function did not converge')\n",
    "        \n",
    "    optK = kvec[PF]\n",
    "    optI = optK - (1 - delta) * optK\n",
    "    return PF, optK, optI"
   ]
  },
  {
   "cell_type": "code",
   "execution_count": 18,
   "metadata": {
    "collapsed": true
   },
   "outputs": [],
   "source": [
    "# Stationary distribution function, note that here pf is sizez by sizek\n",
    "#@numba.jit\n",
    "def stationary(w):\n",
    "    PF, K, I = VFI(w)\n",
    "    PF = PF.T\n",
    "    Gamma = np.ones((sizez, sizek)) * (1 / (sizek * sizez))\n",
    "    SDtol = 1e-12\n",
    "    SDdist = 7\n",
    "    SDiter = 0\n",
    "    SDmaxiter = 1000\n",
    "    while SDdist > SDtol and SDmaxiter > SDiter:\n",
    "        HGamma = np.zeros((sizez, sizek))\n",
    "        for i in range(sizez):  # z\n",
    "            for j in range(sizek):  # k\n",
    "                for m in range(sizez):  # z'\n",
    "                    HGamma[m, PF[i, j]] = \\\n",
    "                        HGamma[m, PF[i, j]] + pi[i, m] * Gamma[i, j]\n",
    "        SDdist = (np.absolute(HGamma - Gamma)).max()\n",
    "        Gamma = HGamma\n",
    "        SDiter += 1\n",
    "\n",
    "    if SDiter < SDmaxiter:\n",
    "        print('Stationary distribution converged after this many iterations: ',\n",
    "              SDiter)\n",
    "    else:\n",
    "        print('Stationary distribution did not converge')\n",
    "        \n",
    "    return Gamma.T\n",
    "    "
   ]
  },
  {
   "cell_type": "code",
   "execution_count": 19,
   "metadata": {
    "collapsed": true
   },
   "outputs": [],
   "source": [
    "# Aggregate Statistics\n",
    "@numba.jit\n",
    "def aggregate(w, gamma):\n",
    "    PF, K, I = VFI(w)\n",
    "    ldmat = np.zeros_like(K)\n",
    "    cmat = np.zeros_like(K)\n",
    "    ymat = np.zeros_like(K)\n",
    "    for i in range(sizek):\n",
    "        for j in range(sizez):\n",
    "            ldmat[i, j] = get_ld(w, K[i, j], zvec[j])\n",
    "            cmat[i, j] = c(w, K[i, j], kvec[i], zvec[j])\n",
    "            ymat[i, j] = zvec[j] * kvec[i] ** alpha_k * ldmat[i, j] ** alpha_l\n",
    "    ag_ld = np.sum(ldmat * gamma)\n",
    "    ag_I = np.sum(I * gamma)\n",
    "    ag_psi = np.sum(cmat * gamma)\n",
    "    ag_Y = np.sum(ymat * gamma)\n",
    "    hh_Consump = ag_Y - ag_I - ag_psi\n",
    "    return ag_ld, hh_Consump"
   ]
  },
  {
   "cell_type": "code",
   "execution_count": 20,
   "metadata": {
    "collapsed": true
   },
   "outputs": [],
   "source": [
    "def get_ls(c, w):\n",
    "    ls = c * w/h\n",
    "    return ls"
   ]
  },
  {
   "cell_type": "code",
   "execution_count": null,
   "metadata": {
    "collapsed": true
   },
   "outputs": [],
   "source": [
    "from scipy.optimize import fminbound\n",
    "# Begin iteration\n",
    "tol = 1e-6\n",
    "dist = 7.0\n",
    "maxiter = 3000\n",
    "ite = 1\n",
    "w_old = 0.7 #initial guess\n",
    "epsilon = 0.8\n",
    "\n",
    "def l_dist(w):\n",
    "    gamma = stationary(w)\n",
    "    Ld, c = aggregate(w, gamma)\n",
    "    Ls = get_ls(c, w_old)\n",
    "    dist = abs(Ld - Ls)\n",
    "    return dist\n",
    "\n",
    "while ite < maxiter and dist > tol:\n",
    "    w_new = w_old\n",
    "    dist = l_dist(w_old)\n",
    "    w = fminbound(l_dist, w_old, 1.5)\n",
    "    w_old = epsilon * w_old + (1 - epsilon) * w\n",
    "    ite += 1\n",
    "    \n",
    "print(w_old)   "
   ]
  }
 ],
 "metadata": {
  "kernelspec": {
   "display_name": "Python 3",
   "language": "python",
   "name": "python3"
  },
  "language_info": {
   "codemirror_mode": {
    "name": "ipython",
    "version": 3
   },
   "file_extension": ".py",
   "mimetype": "text/x-python",
   "name": "python",
   "nbconvert_exporter": "python",
   "pygments_lexer": "ipython3",
   "version": "3.6.1"
  }
 },
 "nbformat": 4,
 "nbformat_minor": 2
}
