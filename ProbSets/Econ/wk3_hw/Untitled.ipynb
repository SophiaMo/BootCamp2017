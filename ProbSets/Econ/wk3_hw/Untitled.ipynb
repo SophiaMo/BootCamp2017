{
 "cells": [
  {
   "cell_type": "markdown",
   "metadata": {},
   "source": [
    "Exercise 4"
   ]
  },
  {
   "cell_type": "code",
   "execution_count": 9,
   "metadata": {
    "collapsed": true
   },
   "outputs": [],
   "source": [
    "# Import packages\n",
    "import numpy as np\n",
    "import matplotlib.pyplot as plt\n",
    "import time\n",
    "import numba\n",
    "import pylab\n",
    "\n",
    "# to print plots inline\n",
    "%matplotlib inline"
   ]
  },
  {
   "cell_type": "code",
   "execution_count": 10,
   "metadata": {},
   "outputs": [],
   "source": [
    "# Specify parameters\n",
    "# firms\n",
    "alpha_k = 0.29715\n",
    "alpha_l = 0.65\n",
    "delta = 0.154\n",
    "psi = 1.08\n",
    "z = 1\n",
    "sigma_z = 0.213\n",
    "mu = 0.000\n",
    "rho = 0.7605\n",
    "sizez = 9\n",
    "\n",
    "# households\n",
    "h = 6.616\n",
    "beta = 0.96\n",
    "\n",
    "r_bar = 1/beta - 1\n",
    "\n",
    "params = alpha_k, alpha_l, delta, psi, h, beta, r_bar"
   ]
  },
  {
   "cell_type": "code",
   "execution_count": 11,
   "metadata": {},
   "outputs": [],
   "source": [
    "# Set up K-grid\n",
    "dens = 2\n",
    "# put in bounds here for the capital stock space\n",
    "betafirm = 1/(1 + r_bar)\n",
    "kstar = ((((1 / betafirm - 1 + delta) * ((0.7 / alpha_l) **\n",
    "                                         (alpha_l / (1 - alpha_l)))) /\n",
    "         (alpha_k * (z ** (1 / (1 - alpha_l))))) **\n",
    "         ((1 - alpha_l) / (alpha_k + alpha_l - 1)))\n",
    "kbar = 2 * kstar\n",
    "lb_k = 0.001\n",
    "ub_k = kbar\n",
    "krat = np.log(lb_k / ub_k)\n",
    "numb = np.ceil(krat / np.log(1 - delta))\n",
    "K = np.zeros(int(numb * dens))\n",
    "# we'll create in a way where we pin down the upper bound - since\n",
    "# the distance will be small near the lower bound, we'll miss that by little\n",
    "for j in range(int(numb * dens)):\n",
    "    K[j] = ub_k * (1 - delta) ** (j / dens)\n",
    "kvec = K[::-1]\n",
    "sizek = kvec.shape[0]\n",
    "\n",
    "import sys\n",
    "sys.path.append('../Code')\n",
    "import ar1_approx as ar1\n",
    "num_sigma = 4\n",
    "step = (num_sigma * sigma_z) / (sizez / 2)\n",
    "pi, zvec = ar1.rouwen(rho, mu, step, sizez)\n",
    "zvec = np.exp(zvec)"
   ]
  },
  {
   "cell_type": "code",
   "execution_count": 14,
   "metadata": {},
   "outputs": [],
   "source": [
    "# operating profits, op\n",
    "def op(z, k, w, params):\n",
    "    alpha_k, alpha_l, delta, psi, h, beta, r_bar = params\n",
    "    op = ((1 - alpha_l) * ((alpha_l / w) ** (alpha_l / (1 - alpha_l))) * ((k ** alpha_k) ** (1 / (1 - alpha_l)))) * z ** (1/(1 - alpha_l))\n",
    "    return op\n",
    "\n",
    "# firm cash flow, e\n",
    "@numba.jit\n",
    "def flow(w, params):\n",
    "    e = np.zeros((sizek, sizek, sizez))\n",
    "    for i in range(sizek):\n",
    "        for j in range(sizek):\n",
    "            for k in range(sizez):\n",
    "                e[i, j, k] = (op(zvec[k], kvec[i], w, params) - kvec[j] + ((1 - delta) * kvec[i]) - \n",
    "                              ((psi / 2) * ((kvec[j] - ((1 - delta) * kvec[i])) ** 2)/ kvec[i]))\n",
    "    return e"
   ]
  },
  {
   "cell_type": "code",
   "execution_count": 19,
   "metadata": {},
   "outputs": [],
   "source": [
    "@numba.jit\n",
    "def VFI(w_bar, params):\n",
    "    alpha_k, alpha_l, delta, psi, h, beta, r_bar = params\n",
    "    VFtol = 1e-6\n",
    "    VFdist = 7.0\n",
    "    VFmaxiter = 3000\n",
    "    V = np.zeros((sizek, sizez))  # initial guess of value function\n",
    "    Vmat = np.zeros((sizek, sizek, sizez))  # initialize Vmat matrix\n",
    "    VFiter = 1\n",
    "    \n",
    "    while VFdist > VFtol and VFiter < VFmaxiter:\n",
    "        TV = V\n",
    "        for i in range(sizek):  # loop over k\n",
    "            for j in range(sizek):  # loop over k'\n",
    "                for k in range(sizez): # loop over z\n",
    "                    Vmat[i, j, k] = flow(w_bar, params)[i, j, k] + betafirm * np.dot(V[j, :], pi[:, k])\n",
    "    \n",
    "    # iteration for graphing later\n",
    "    V = Vmat.max(axis=1)  # apply max operator to Vmat (to get V(k))\n",
    "    PF = np.argmax(Vmat, axis=1)  # find the index of the optimal k'\n",
    "    VFdist = (np.absolute(V - TV)).max()  # check distance between value\n",
    "    # function for this iteration and value function from past iteration\n",
    "    VFiter += 1\n",
    "    optK = kvec[PF]\n",
    "    optI = optK - (1 - delta) * optK\n",
    "    return V, PF, optK, optI"
   ]
  },
  {
   "cell_type": "code",
   "execution_count": null,
   "metadata": {
    "collapsed": true
   },
   "outputs": [],
   "source": [
    "@numba.jit\n",
    "def firm(w_guess, params):\n",
    "    alpha_k, alpha_l, delta, psi, h, beta, r_bar = params\n",
    "    V, PF, optK, optI = VFI(w_guess, params)\n",
    "    \n",
    "    for i in range(sizek):\n",
    "        e = flow(w_guess, params)\n",
    "        ld = \n",
    "        ind = opt[I] - (1 - delta) \n",
    "    "
   ]
  }
 ],
 "metadata": {
  "kernelspec": {
   "display_name": "Python 3",
   "language": "python",
   "name": "python3"
  },
  "language_info": {
   "codemirror_mode": {
    "name": "ipython",
    "version": 3
   },
   "file_extension": ".py",
   "mimetype": "text/x-python",
   "name": "python",
   "nbconvert_exporter": "python",
   "pygments_lexer": "ipython3",
   "version": "3.6.1"
  }
 },
 "nbformat": 4,
 "nbformat_minor": 2
}
