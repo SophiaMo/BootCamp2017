{
 "cells": [
  {
   "cell_type": "markdown",
   "metadata": {},
   "source": [
    "## Problem 5 (6.14)"
   ]
  },
  {
   "cell_type": "code",
   "execution_count": 20,
   "metadata": {},
   "outputs": [],
   "source": [
    "def Newton(x0, f1, f2, epsilon = 1e-10):\n",
    "    max_iter = 3000\n",
    "    ite = 1\n",
    "    x_old = x0\n",
    "    dist = 7\n",
    "    while ite < max_iter and dist > epsilon:\n",
    "        x_new = x_old\n",
    "        x_old = x_new - f1(x_new)/f2(x_new)\n",
    "        dist = abs(x_old - x_new)/abs(x_new)\n",
    "        ite += 1\n",
    "    if ite > max_iter:\n",
    "        raise ValueError(\"Newton Method does not converge\")\n",
    "    else:\n",
    "        return x_old"
   ]
  }
 ],
 "metadata": {
  "kernelspec": {
   "display_name": "Python 3",
   "language": "python",
   "name": "python3"
  },
  "language_info": {
   "codemirror_mode": {
    "name": "ipython",
    "version": 3
   },
   "file_extension": ".py",
   "mimetype": "text/x-python",
   "name": "python",
   "nbconvert_exporter": "python",
   "pygments_lexer": "ipython3",
   "version": "3.6.1"
  }
 },
 "nbformat": 4,
 "nbformat_minor": 2
}
