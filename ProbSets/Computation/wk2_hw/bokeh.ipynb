{
 "cells": [
  {
   "cell_type": "code",
   "execution_count": 1,
   "metadata": {},
   "outputs": [
    {
     "name": "stdout",
     "output_type": "stream",
     "text": [
      "   ST_CASE  STATE   LATITUDE   LONGITUD  HOUR  DAY  MONTH  YEAR  DRUNK_DR  \\\n",
      "0    10001      1  32.641064 -85.354692     4   15      1  2010         1   \n",
      "1    10002      1  31.430447 -86.956694     6   11      1  2010         0   \n",
      "2    10003      1  30.691631 -88.085778    15   14      1  2010         0   \n",
      "3    10004      1  33.868700 -86.291164     1   21      1  2010         0   \n",
      "4    10005      1  33.309742 -86.787222     6    4      1  2010         0   \n",
      "\n",
      "   WEATHER  SP  FATALS  \n",
      "0        1   0       1  \n",
      "1        1   0       1  \n",
      "2        1   1       1  \n",
      "3        2   0       1  \n",
      "4        1   0       1  \n"
     ]
    }
   ],
   "source": [
    "# Problem 1\n",
    "import pickle\n",
    "import pandas as pd\n",
    "import numpy as np\n",
    "from matplotlib import pyplot as plt\n",
    "accidents = pd.read_pickle(\"/Users/Sophia/Desktop/BootCamp2017/Computation/Wk2_VisPandas/fars_data/final_accidents2.pickle\")\n",
    "print(accidents.head())"
   ]
  },
  {
   "cell_type": "code",
   "execution_count": 2,
   "metadata": {
    "collapsed": true
   },
   "outputs": [],
   "source": [
    "# Problem 2\n",
    "from pyproj import Proj, transform\n",
    "from_proj = Proj(init=\"epsg:4326\")\n",
    "to_proj = Proj(init=\"epsg:3857\")\n",
    "def convert(longitudes, latitudes):\n",
    "    \"\"\"Converts latlon coordinates to meters.\n",
    "    Inputs:\n",
    "    longitudes (array-like) : array of longitudes\n",
    "    latitudes (array-like) : array of latitudes\n",
    "    Example:\n",
    "    x,y = convert(accidents.LONGITUD, accidents.LATITUDE)\n",
    "    \"\"\"\n",
    "    x_vals = []\n",
    "    y_vals = []\n",
    "    for lon, lat in zip(longitudes, latitudes):\n",
    "        x, y = transform(from_proj, to_proj, lon, lat)\n",
    "        x_vals.append(x)\n",
    "        y_vals.append(y)\n",
    "    return x_vals, y_vals\n",
    "\n",
    "accidents[\"x\"], accidents[\"y\"] = convert(accidents.LONGITUD, accidents.LATITUDE)"
   ]
  },
  {
   "cell_type": "code",
   "execution_count": 3,
   "metadata": {},
   "outputs": [
    {
     "name": "stdout",
     "output_type": "stream",
     "text": [
      "   ST_CASE  VEH_NO  AGE  DRINKING  SPEEDREL  YEAR\n",
      "0    10001       1   51         9         0  2010\n",
      "2    10002       1   44         0         0  2010\n",
      "3    10003       1   27         9         1  2010\n",
      "4    10003       2   45         0         0  2010\n",
      "5    10003       3   28         0         0  2010\n"
     ]
    }
   ],
   "source": [
    "# Problem 3\n",
    "drivers = pd.read_pickle(\"/Users/Sophia/Desktop/BootCamp2017/Computation/Wk2_VisPandas/fars_data/final_drivers.pickle\")\n",
    "print(drivers.head())"
   ]
  },
  {
   "cell_type": "code",
   "execution_count": 4,
   "metadata": {},
   "outputs": [
    {
     "data": {
      "text/html": [
       "<div style=\"display: table;\"><div style=\"display: table-row;\"><div style=\"display: table-cell;\"><b title=\"bokeh.models.renderers.TileRenderer\">TileRenderer</b>(</div><div style=\"display: table-cell;\">id&nbsp;=&nbsp;'6637d59e-8360-427f-aca2-948f64a79a2f', <span id=\"314bcca2-7cf8-4ec3-b524-31f15be4f956\" style=\"cursor: pointer;\">&hellip;)</span></div></div><div class=\"120d1f9c-3545-4fc0-ad21-40f3f6a2d04d\" style=\"display: none;\"><div style=\"display: table-cell;\"></div><div style=\"display: table-cell;\">alpha&nbsp;=&nbsp;1.0,</div></div><div class=\"120d1f9c-3545-4fc0-ad21-40f3f6a2d04d\" style=\"display: none;\"><div style=\"display: table-cell;\"></div><div style=\"display: table-cell;\">js_event_callbacks&nbsp;=&nbsp;{},</div></div><div class=\"120d1f9c-3545-4fc0-ad21-40f3f6a2d04d\" style=\"display: none;\"><div style=\"display: table-cell;\"></div><div style=\"display: table-cell;\">js_property_callbacks&nbsp;=&nbsp;{},</div></div><div class=\"120d1f9c-3545-4fc0-ad21-40f3f6a2d04d\" style=\"display: none;\"><div style=\"display: table-cell;\"></div><div style=\"display: table-cell;\">level&nbsp;=&nbsp;'underlay',</div></div><div class=\"120d1f9c-3545-4fc0-ad21-40f3f6a2d04d\" style=\"display: none;\"><div style=\"display: table-cell;\"></div><div style=\"display: table-cell;\">name&nbsp;=&nbsp;None,</div></div><div class=\"120d1f9c-3545-4fc0-ad21-40f3f6a2d04d\" style=\"display: none;\"><div style=\"display: table-cell;\"></div><div style=\"display: table-cell;\">render_parents&nbsp;=&nbsp;True,</div></div><div class=\"120d1f9c-3545-4fc0-ad21-40f3f6a2d04d\" style=\"display: none;\"><div style=\"display: table-cell;\"></div><div style=\"display: table-cell;\">subscribed_events&nbsp;=&nbsp;[],</div></div><div class=\"120d1f9c-3545-4fc0-ad21-40f3f6a2d04d\" style=\"display: none;\"><div style=\"display: table-cell;\"></div><div style=\"display: table-cell;\">tags&nbsp;=&nbsp;[],</div></div><div class=\"120d1f9c-3545-4fc0-ad21-40f3f6a2d04d\" style=\"display: none;\"><div style=\"display: table-cell;\"></div><div style=\"display: table-cell;\">tile_source&nbsp;=&nbsp;WMTSTileSource(id='b101ff3e-0f7f-49d8-baf6-af1b01ffd026', ...),</div></div><div class=\"120d1f9c-3545-4fc0-ad21-40f3f6a2d04d\" style=\"display: none;\"><div style=\"display: table-cell;\"></div><div style=\"display: table-cell;\">visible&nbsp;=&nbsp;True,</div></div><div class=\"120d1f9c-3545-4fc0-ad21-40f3f6a2d04d\" style=\"display: none;\"><div style=\"display: table-cell;\"></div><div style=\"display: table-cell;\">x_range_name&nbsp;=&nbsp;'default',</div></div><div class=\"120d1f9c-3545-4fc0-ad21-40f3f6a2d04d\" style=\"display: none;\"><div style=\"display: table-cell;\"></div><div style=\"display: table-cell;\">y_range_name&nbsp;=&nbsp;'default')</div></div></div>\n",
       "<script>\n",
       "(function() {\n",
       "  var expanded = false;\n",
       "  var ellipsis = document.getElementById(\"314bcca2-7cf8-4ec3-b524-31f15be4f956\");\n",
       "  ellipsis.addEventListener(\"click\", function() {\n",
       "    var rows = document.getElementsByClassName(\"120d1f9c-3545-4fc0-ad21-40f3f6a2d04d\");\n",
       "    for (var i = 0; i < rows.length; i++) {\n",
       "      var el = rows[i];\n",
       "      el.style.display = expanded ? \"none\" : \"table-row\";\n",
       "    }\n",
       "    ellipsis.innerHTML = expanded ? \"&hellip;)\" : \"&lsaquo;&lsaquo;&lsaquo;\";\n",
       "    expanded = !expanded;\n",
       "  });\n",
       "})();\n",
       "</script>\n"
      ],
      "text/plain": [
       "TileRenderer(id='6637d59e-8360-427f-aca2-948f64a79a2f', ...)"
      ]
     },
     "execution_count": 4,
     "metadata": {},
     "output_type": "execute_result"
    }
   ],
   "source": [
    "# Problem 4\n",
    "from bokeh.models import ColumnDataSource\n",
    "from bokeh.plotting import Figure, show, output_notebook, output_file\n",
    "from bokeh.models import WMTSTileSource\n",
    "\n",
    "fig = Figure(plot_width=1100, plot_height=650,\n",
    "            x_range=(-13000000, -7000000), y_range=(2750000, 6250000),\n",
    "            tools=[\"wheel_zoom\", \"pan\"], active_scroll=\"wheel_zoom\")\n",
    "fig.axis.visible = False\n",
    "STAMEN_TONER_BACKGROUND = WMTSTileSource(\n",
    "url='http://tile.stamen.com/toner-background/{Z}/{X}/{Y}.png',\n",
    "attribution=('Map tiles by <a href=\"http://stamen.com\">Stamen Design</a>, ''under <a href=\"http://creativecommons.org/licenses/by/3.0\">CC BY 3.0</a>.''Data by <a href=\"http://openstreetmap.org\">OpenStreetMap</a>, ''under <a href=\"http://www.openstreetmap.org/copyright\">ODbL</a>'))\n",
    "fig.add_tile(STAMEN_TONER_BACKGROUND)"
   ]
  },
  {
   "cell_type": "code",
   "execution_count": 5,
   "metadata": {
    "collapsed": true
   },
   "outputs": [],
   "source": [
    "# Problem 6\n",
    "fig = Figure(plot_width=500, plot_height=500)\n",
    "\n",
    "drunk = accidents[(accidents['DRUNK_DR'] ==1)]\n",
    "speeding = accidents[(accidents['SP'] == 1)]\n",
    "other = accidents[(accidents['DRUNK_DR']!=1) & (accidents['SP']!=1)]\n",
    "\n",
    "cir1 = fig.circle(x=\"x\", y=\"y\", source=drunk, size=1, color=\"red\")\n",
    "\n",
    "cir2 = fig.circle(x=\"x\", y=\"y\", source=speeding, size=1, color=\"blue\")\n",
    "\n",
    "cir3 = fig.circle(x=\"x\", y=\"y\", source=other, size=1, color=\"green\")\n",
    "\n",
    "show(fig)\n"
   ]
  },
  {
   "cell_type": "code",
   "execution_count": 14,
   "metadata": {
    "collapsed": true
   },
   "outputs": [],
   "source": [
    "# Problem 7\n",
    "fig = Figure(plot_width=500, plot_height=500, webgl=True)\n",
    "\n",
    "drunk = accidents[(accidents['DRUNK_DR'] ==1)]\n",
    "speeding = accidents[(accidents['SP'] == 1)]\n",
    "other = accidents[(accidents['DRUNK_DR']!=1) & (accidents['SP']!=1)]\n",
    "\n",
    "cir1 = fig.circle(x=\"x\", y=\"y\", source=drunk, size=1, color=\"red\")\n",
    "\n",
    "cir2 = fig.circle(x=\"x\", y=\"y\", source=speeding, size=1, color=\"blue\")\n",
    "\n",
    "cir3 = fig.circle(x=\"x\", y=\"y\", source=other, size=1, color=\"green\")\n",
    "\n",
    "show(fig)"
   ]
  }
 ],
 "metadata": {
  "kernelspec": {
   "display_name": "Python 3",
   "language": "python",
   "name": "python3"
  },
  "language_info": {
   "codemirror_mode": {
    "name": "ipython",
    "version": 3
   },
   "file_extension": ".py",
   "mimetype": "text/x-python",
   "name": "python",
   "nbconvert_exporter": "python",
   "pygments_lexer": "ipython3",
   "version": "3.6.1"
  }
 },
 "nbformat": 4,
 "nbformat_minor": 2
}
