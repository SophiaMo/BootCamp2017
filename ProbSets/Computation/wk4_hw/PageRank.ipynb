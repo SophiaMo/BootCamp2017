{
 "cells": [
  {
   "cell_type": "code",
   "execution_count": 1,
   "metadata": {
    "collapsed": true
   },
   "outputs": [],
   "source": [
    "# Problem 1\n",
    "import numpy as np\n",
    "from scipy.sparse import dok_matrix\n",
    "    \n",
    "def adj_mat(name, N):\n",
    "    int_mat = []\n",
    "    with open(name, 'r') as myfile:\n",
    "        l = [line.strip().split() for line in  myfile.read().splitlines()[1: ]]\n",
    "        int_mat.append(l)\n",
    "        int_mat = np.array(int_mat).astype(int)\n",
    "        int_mat = int_mat[0]\n",
    "        mat = dok_matrix((N, N), dtype=int)\n",
    "        try:\n",
    "            for i in range(int_mat.shape[0]):\n",
    "                mat[int_mat[i][0], int_mat[i][1]] = 1\n",
    "        except:\n",
    "            np.unique(int_data) != N\n",
    "            raise ValueError\n",
    "    return mat      "
   ]
  },
  {
   "cell_type": "code",
   "execution_count": 4,
   "metadata": {
    "collapsed": true
   },
   "outputs": [],
   "source": [
    "# Problem 2\n",
    "from numpy.linalg import inv\n",
    "def tran_mat(m):\n",
    "    Am = np.copy(m)\n",
    "    D = np.zeros_like(Am)\n",
    "    for i in range(m.shape[0]):\n",
    "        if all(Am[i, :] == 0):\n",
    "            Am[i, :] = np.ones(m.shape[0])\n",
    "        D[i, i] = np.sum(Am[i, :])\n",
    "    K = np.dot(np.transpose(Am), inv(D))\n",
    "    return K"
   ]
  },
  {
   "cell_type": "code",
   "execution_count": 6,
   "metadata": {},
   "outputs": [
    {
     "data": {
      "text/plain": [
       "array([[ 0.        ,  1.        ,  0.125     ,  0.33333333,  0.33333333,\n",
       "         0.5       ,  1.        ,  1.        ],\n",
       "       [ 0.        ,  0.        ,  0.125     ,  0.        ,  0.        ,\n",
       "         0.        ,  0.        ,  0.        ],\n",
       "       [ 0.        ,  0.        ,  0.125     ,  0.33333333,  0.        ,\n",
       "         0.        ,  0.        ,  0.        ],\n",
       "       [ 0.        ,  0.        ,  0.125     ,  0.        ,  0.        ,\n",
       "         0.        ,  0.        ,  0.        ],\n",
       "       [ 0.        ,  0.        ,  0.125     ,  0.        ,  0.        ,\n",
       "         0.        ,  0.        ,  0.        ],\n",
       "       [ 0.        ,  0.        ,  0.125     ,  0.        ,  0.33333333,\n",
       "         0.        ,  0.        ,  0.        ],\n",
       "       [ 0.        ,  0.        ,  0.125     ,  0.33333333,  0.33333333,\n",
       "         0.5       ,  0.        ,  0.        ],\n",
       "       [ 1.        ,  0.        ,  0.125     ,  0.        ,  0.        ,\n",
       "         0.        ,  0.        ,  0.        ]])"
      ]
     },
     "execution_count": 6,
     "metadata": {},
     "output_type": "execute_result"
    }
   ],
   "source": [
    "# Testing with the given matrix\n",
    "m = adj_mat('matrix.txt', 8)\n",
    "m = m.todense()\n",
    "tran_mat(m)"
   ]
  },
  {
   "cell_type": "code",
   "execution_count": 38,
   "metadata": {},
   "outputs": [],
   "source": [
    "# Problem 3\n",
    "def iterative(A, N = None, d = 0.85, tol = 1e-5):\n",
    "    if N != None:\n",
    "        adj = np.copy((A[:N, :N]))\n",
    "    else:\n",
    "        N = int(A.shape[0])\n",
    "        adj = np.copy(A)\n",
    "    p0 = np.full(N, 1/N) \n",
    "\n",
    "    K = tran_mat(adj)\n",
    "    max_iter = 3000\n",
    "    ite = 1\n",
    "    dist = 1 \n",
    "    while ite < max_iter and dist > tol:\n",
    "        p1 = np.copy(p0)\n",
    "        p0 = np.dot( d * K, p0) + (1 - d)/ N\n",
    "        p = p1 - p0\n",
    "        dist = max(abs(x) for x in p)\n",
    "        ite += 1\n",
    "    return p1"
   ]
  },
  {
   "cell_type": "code",
   "execution_count": 39,
   "metadata": {},
   "outputs": [
    {
     "data": {
      "text/plain": [
       "array([ 0.43869813,  0.02171029,  0.02786154,  0.02171029,  0.02171029,\n",
       "        0.02786154,  0.04585394,  0.39459399])"
      ]
     },
     "execution_count": 39,
     "metadata": {},
     "output_type": "execute_result"
    }
   ],
   "source": [
    "iterative(m)"
   ]
  },
  {
   "cell_type": "code",
   "execution_count": 66,
   "metadata": {
    "collapsed": true
   },
   "outputs": [],
   "source": [
    "# Problem 4\n",
    "from scipy import linalg as la\n",
    "def eigenvalue(A, N = None, d = 0.85):\n",
    "    if N != None:\n",
    "        adj = np.copy((A[:N, :N]))\n",
    "    else:\n",
    "        N = int(A.shape[0])\n",
    "        adj = np.copy(A)\n",
    "    K = tran_mat(adj)\n",
    "    P = d * K + (1 - d)/ N\n",
    "    v = la.eig(P.T, left = True)[1][:,0]\n",
    "    v = (v/v.sum())\n",
    "    return v"
   ]
  },
  {
   "cell_type": "code",
   "execution_count": 67,
   "metadata": {},
   "outputs": [
    {
     "data": {
      "text/plain": [
       "array([ 0.43869288-0.j,  0.02171029-0.j,  0.02786154-0.j,  0.02171029-0.j,\n",
       "        0.02171029-0.j,  0.02786154-0.j,  0.04585394-0.j,  0.39459924-0.j])"
      ]
     },
     "execution_count": 67,
     "metadata": {},
     "output_type": "execute_result"
    }
   ],
   "source": [
    "eigenvalue(m)"
   ]
  },
  {
   "cell_type": "code",
   "execution_count": 80,
   "metadata": {},
   "outputs": [
    {
     "name": "stdout",
     "output_type": "stream",
     "text": [
      "['Duke' 'Butler' 'Louisville' 'Illinois' 'Indiana']\n"
     ]
    }
   ],
   "source": [
    "# Problem 5\n",
    "import pandas as pd\n",
    "data = pd.read_csv('ncaa2013.csv', skiprows = 1, index_col=False).astype(str)\n",
    "data = data.values\n",
    "m = np.shape(data)[0]\n",
    "team, index = np.unique(data, return_inverse=True)\n",
    "index = index.reshape(m, 2)\n",
    "adj = np.zeros((len(team) , len(team)))\n",
    "for i in range(m):\n",
    "    adj[index[i, 1], index[i, 0]] = 1\n",
    "\n",
    "p = iterative(adj, d = 0.7)\n",
    "r = np.argsort(p)[::-1]\n",
    "r = team[r]\n",
    "print(r[: 5])"
   ]
  }
 ],
 "metadata": {
  "kernelspec": {
   "display_name": "Python 3",
   "language": "python",
   "name": "python3"
  },
  "language_info": {
   "codemirror_mode": {
    "name": "ipython",
    "version": 3
   },
   "file_extension": ".py",
   "mimetype": "text/x-python",
   "name": "python",
   "nbconvert_exporter": "python",
   "pygments_lexer": "ipython3",
   "version": "3.6.1"
  }
 },
 "nbformat": 4,
 "nbformat_minor": 2
}
