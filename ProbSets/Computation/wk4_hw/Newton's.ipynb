{
 "cells": [
  {
   "cell_type": "code",
   "execution_count": 5,
   "metadata": {
    "collapsed": true
   },
   "outputs": [],
   "source": [
    "import numpy as np\n",
    "\n",
    "# Problem 1\n",
    "def Newton(f, x0, f1, tol = 1e-5, max_iter = 15):\n",
    "    for k in range(max_iter): \n",
    "        x1 = x0 - f(x0)/f1(x0)\n",
    "        if abs(x1 - x0) < tol: \n",
    "            break\n",
    "        x0 = x1\n",
    "    return x0"
   ]
  },
  {
   "cell_type": "code",
   "execution_count": 8,
   "metadata": {},
   "outputs": [
    {
     "name": "stdout",
     "output_type": "stream",
     "text": [
      "0.693147199959\n",
      "0.69314718056\n",
      "3.87972951543e-08\n"
     ]
    }
   ],
   "source": [
    "from scipy.optimize import newton\n",
    "f = lambda x: np.exp(x) - 2\n",
    "f1 = lambda x: np.exp(x)\n",
    "\n",
    "print(Newton(f, 0.5, f1))\n",
    "print(newton(f, 0.5))\n",
    "print(f(Newton(f, 0.5, f1)))"
   ]
  },
  {
   "cell_type": "code",
   "execution_count": 32,
   "metadata": {},
   "outputs": [
    {
     "name": "stdout",
     "output_type": "stream",
     "text": [
      "(0.038781023859982257, array(108897.9694684665))\n"
     ]
    }
   ],
   "source": [
    "# Problem 2\n",
    "from autograd import grad, jacobian\n",
    "import autograd.numpy as anp\n",
    "\n",
    "def prob2(N1, N2, P1, P2):\n",
    "    f = lambda x: P1 * ((1 + x) ** N1 - 1) - P2 * (1 - (1 + x) ** (-N2))\n",
    "    f1 = grad(f)\n",
    "    r = Newton(f, 0.1, f1)\n",
    "    r1 = f1(r)\n",
    "    return r, r1\n",
    "print(prob2(30, 20, 2000, 8000))"
   ]
  },
  {
   "cell_type": "code",
   "execution_count": 15,
   "metadata": {},
   "outputs": [
    {
     "name": "stdout",
     "output_type": "stream",
     "text": [
      "-327.68\n",
      "-3.2e-06\n"
     ]
    }
   ],
   "source": [
    "# Problem 3\n",
    "def Backtracking(f, x0, f1, alpha = 1, tol = 1e-5, max_iter = 15):\n",
    "    for k in range(max_iter): \n",
    "        x1 = x0 - alpha * f(x0)/f1(x0)\n",
    "        if abs(x1 - x0) < tol: \n",
    "            break\n",
    "        x0 = x1\n",
    "    return x0\n",
    "\n",
    "f = lambda x: np.sign(x) * np.power(np.abs(x), 1./3)\n",
    "f1 = grad(f)\n",
    "print(Backtracking(f, 0.01, f1))\n",
    "print(Backtracking(f, 0.01, f1, 0.4))"
   ]
  },
  {
   "cell_type": "code",
   "execution_count": 30,
   "metadata": {},
   "outputs": [
    {
     "data": {
      "image/png": "[encoded data removed]",
      "text/plain": [
       "<matplotlib.figure.Figure at 0x111431be0>"
      ]
     },
     "metadata": {},
     "output_type": "display_data"
    }
   ],
   "source": [
    "# Problem 4\n",
    "\n",
    "from matplotlib import pyplot as plt\n",
    "def prob4(f, x0, f1, alpha, tol = 1e-5, max_iter = 15):\n",
    "    i = 0\n",
    "    dist = 1\n",
    "    while i < max_iter and dist > tol:\n",
    "        x1 = x0\n",
    "        x0 = x0 - alpha * f(x0)/f1(x0)\n",
    "        dist = abs(x1 - x0)\n",
    "        i += 1\n",
    "    return x0, i\n",
    "\n",
    "alpha = np.linspace(0.2, 0.6, 5)\n",
    "i = np.zeros(5)\n",
    "for j in range(5):\n",
    "    i[j] = prob4(f, 0.01, f1, alpha[j])[1]\n",
    "plt.plot(i, alpha)\n",
    "plt.xlabel('number of iterations')\n",
    "plt.ylabel('alpha')\n",
    "plt.show()"
   ]
  },
  {
   "cell_type": "code",
   "execution_count": 40,
   "metadata": {},
   "outputs": [
    {
     "name": "stdout",
     "output_type": "stream",
     "text": [
      "[ 0.69314718]\n"
     ]
    }
   ],
   "source": [
    "# Problem 5\n",
    "import scipy.linalg as la\n",
    "def high_dimension_newton(f, x0, alpha = 1, tol = 1e-5, max_iter = 15):\n",
    "    i = 0\n",
    "    dist = 1\n",
    "    f1 = jacobian(f)\n",
    "    while i < max_iter and dist > tol:\n",
    "        x1 = x0\n",
    "        x0 = x0 - alpha * np.dot(la.inv(f1(x0)), f(x0))\n",
    "        dist = la.norm(x1 - x0)\n",
    "        i += 1\n",
    "    return x0\n",
    "\n",
    "f = lambda x: anp.exp(x) - 2\n",
    "print(high_dimension_newton(f, np.array([0.5])))"
   ]
  },
  {
   "cell_type": "markdown",
   "metadata": {},
   "source": [
    "The function still works for one-dimensional problem. Multi-dimensional ones will be tested later."
   ]
  },
  {
   "cell_type": "code",
   "execution_count": 88,
   "metadata": {},
   "outputs": [
    {
     "name": "stdout",
     "output_type": "stream",
     "text": [
      "[ -1.49207286e-14  -1.00000000e+00]\n",
      "[ 3.75081227  0.24993985]\n"
     ]
    }
   ],
   "source": [
    "# Problem 6\n",
    "gamma, delta = 5, 1\n",
    "f = lambda x: anp.array([gamma * x[0] * x[1] -x[0] * (1 + x[1]), \n",
    "                        -x[0] * x[1] + (delta - x[1]) * (1 + x[1])])\n",
    "print(high_dimension_newton(f, anp.array([-0.25, 0.20])))\n",
    "print(high_dimension_newton(f, anp.array([-0.25, 0.20]), alpha = 0.55))"
   ]
  },
  {
   "cell_type": "code",
   "execution_count": 161,
   "metadata": {
    "collapsed": true
   },
   "outputs": [],
   "source": [
    "# Problem 7\n",
    "def prob7(f, f1, roots, bounds, res, iters = 200):\n",
    "    x_real = np.linspace(bounds[0], bounds[1], res)\n",
    "    x_imag = np.linspace(bounds[2], bounds[3], res)\n",
    "    X_real, X_imag = np.meshgrid(x_real, x_imag)\n",
    "    X_0 = X_real + 1j*X_imag\n",
    "    Y = np.zeros((res, res))\n",
    "    for i in range(res):\n",
    "        for j in range(res):\n",
    "            x0 = X_0[i, j]\n",
    "            for k in range(iters): \n",
    "                x1 = x0 - f(x0)/f1(x0)\n",
    "                if abs(x1 - x0) < 1e-6: \n",
    "                    break\n",
    "                x0 = x1\n",
    "            Y[i, j] = np.argmin(np.abs(roots - x0))\n",
    "    plt.pcolormesh(x_real, x_imag, Y, cmap = 'brg')\n",
    "    plt.show()"
   ]
  },
  {
   "cell_type": "code",
   "execution_count": 165,
   "metadata": {},
   "outputs": [
    {
     "data": {
      "image/png": "[encoded data removed]",
      "text/plain": [
       "<matplotlib.figure.Figure at 0x1116f08d0>"
      ]
     },
     "metadata": {},
     "output_type": "display_data"
    },
    {
     "data": {
      "image/png": "[encoded data removed]",
      "text/plain": [
       "<matplotlib.figure.Figure at 0x115c600f0>"
      ]
     },
     "metadata": {},
     "output_type": "display_data"
    }
   ],
   "source": [
    "roots1 = np.array([1, -1/2 + (np.sqrt(3)/2)*1j, -1/2 - (np.sqrt(3)/2)*1j])\n",
    "roots2 = np.array([0, 1, -1])\n",
    "f = lambda x: x**3 - 1\n",
    "Df = lambda x: 3*x**2\n",
    "g = lambda x: x**3 - x\n",
    "Dg = lambda x: 3*x**2 - 1\n",
    "prob7(f, Df, roots1, [-1.5, 1.5, -1.5, 1.5], 100)\n",
    "prob7(g, Dg, roots2, [-1.5, 1.5, -1.5, 1.5], 100)"
   ]
  }
 ],
 "metadata": {
  "kernelspec": {
   "display_name": "Python 3",
   "language": "python",
   "name": "python3"
  },
  "language_info": {
   "codemirror_mode": {
    "name": "ipython",
    "version": 3
   },
   "file_extension": ".py",
   "mimetype": "text/x-python",
   "name": "python",
   "nbconvert_exporter": "python",
   "pygments_lexer": "ipython3",
   "version": "3.6.1"
  }
 },
 "nbformat": 4,
 "nbformat_minor": 2
}
