{
 "cells": [
  {
   "cell_type": "code",
   "execution_count": 1,
   "metadata": {
    "collapsed": true
   },
   "outputs": [],
   "source": [
    "import numpy as np\n",
    "\n",
    "# Problem 1\n",
    "def Newton_Cotes(g, a, b, N, method):\n",
    "    i = 0\n",
    "    sum = 0\n",
    "    if method == 'midpoints':\n",
    "        x = a + (b - a)/(2 * N)\n",
    "        while i < N:\n",
    "            sum += g(x) * (b - a)/N\n",
    "            x += (b - a)/N\n",
    "            i += 1\n",
    "    elif method == 'trapezoid':\n",
    "        x = a + (b - a)/N\n",
    "        sum += g(a) * (b - a)/(2 * N)\n",
    "        sum += g(b) * (b - a)/(2 * N)\n",
    "        while i < N - 1:\n",
    "            sum += g(x) * (b - a)/N\n",
    "            x += (b - a)/N\n",
    "            i += 1\n",
    "    elif method == 'simpsons':\n",
    "        x = a + (b - a)/(2 * N)\n",
    "        sum += g(a) * (b - a)/(6 * (N + 1))\n",
    "        sum += g(b) * (b - a)/(6 * (N + 1))\n",
    "        while i < 2 * N - 2:\n",
    "            if i % 2 == 0:\n",
    "                sum += (4/(6 * (N + 1))) * g(x) * (b-a)\n",
    "            else:\n",
    "                sum += (2/(6 * (N + 1))) * g(x) * (b-a)\n",
    "            x += (b - a)/(2 * N)\n",
    "            i += 1\n",
    "    return sum"
   ]
  },
  {
   "cell_type": "code",
   "execution_count": 2,
   "metadata": {},
   "outputs": [
    {
     "name": "stdout",
     "output_type": "stream",
     "text": [
      "4373.329911667478\n",
      "4373.340176666212\n",
      "4373.985091534279\n"
     ]
    }
   ],
   "source": [
    "g = lambda x: (0.1*x**4 - 1.5*x**3 + 0.53*x**2 + 2*x + 1)\n",
    "a = -10\n",
    "b = 10\n",
    "N = 2000\n",
    "print(Newton_Cotes(g,a,b,N,'midpoints'))\n",
    "print(Newton_Cotes(g,a,b,N,'trapezoid'))\n",
    "print(Newton_Cotes(g,a,b,N,'simpsons'))"
   ]
  },
  {
   "cell_type": "code",
   "execution_count": 3,
   "metadata": {},
   "outputs": [
    {
     "name": "stdout",
     "output_type": "stream",
     "text": [
      "(array([-3. , -2.4, -1.8, -1.2, -0.6,  0. ,  0.6,  1.2,  1.8,  2.4,  3. ]), array([ 0.00346697,  0.01439745,  0.04894278,  0.11725292,  0.19802845,\n",
      "        0.23582284,  0.19802845,  0.11725292,  0.04894278,  0.01439745,\n",
      "        0.00346697]))\n",
      "1.0\n"
     ]
    }
   ],
   "source": [
    "# Problem 2\n",
    "from scipy.stats import norm\n",
    "def normal(mu, sigma, N, k):\n",
    "    nodes = np.linspace(mu - k * sigma, mu + k * sigma, N)\n",
    "    weights = np.zeros(N)\n",
    "    weights[0] = norm.cdf((nodes[0] + nodes[1])/2, mu, sigma)\n",
    "    weights[N-1] = 1- norm.cdf((nodes[N-2] + nodes[N-1])/2, mu, sigma)\n",
    "    for i in range(1, N-1):\n",
    "        weights[i] = norm.cdf((nodes[i + 1]+nodes[i])/2, mu, sigma) - norm.cdf((nodes[i]+nodes[i-1])/2, mu, sigma)\n",
    "    return nodes, weights\n",
    "\n",
    "print(normal(0, 1, 11, 3))\n",
    "print(normal(0, 1, 11, 3)[1].sum())"
   ]
  },
  {
   "cell_type": "code",
   "execution_count": 4,
   "metadata": {
    "collapsed": true
   },
   "outputs": [],
   "source": [
    "# Problem 3\n",
    "def log_normal(mu, sigma, N, k):\n",
    "    nodes, weights = normal(mu, sigma, N, k)\n",
    "    nodes = np.exp(nodes)\n",
    "    return nodes, weights"
   ]
  },
  {
   "cell_type": "code",
   "execution_count": 5,
   "metadata": {},
   "outputs": [
    {
     "name": "stdout",
     "output_type": "stream",
     "text": [
      "50007.1062252\n",
      "50011.0870085\n"
     ]
    }
   ],
   "source": [
    "# Problem 4\n",
    "expected_income = np.dot(log_normal(10.5, 0.8, 200, 4)[0], log_normal(10.5, 0.8, 200, 4)[1])\n",
    "print(expected_income)\n",
    "mu, sigma = np.array([10.5, 0.8])\n",
    "true_mean = np.exp(mu + sigma ** 2/2)\n",
    "print(true_mean)"
   ]
  },
  {
   "cell_type": "code",
   "execution_count": 6,
   "metadata": {},
   "outputs": [
    {
     "name": "stdout",
     "output_type": "stream",
     "text": [
      "[  5.55555255e+00   8.88889452e+00   5.55555293e+00  -7.74596774e+00\n",
      "  -8.77787805e-06   7.74596763e+00]\n",
      "4373.33301542\n"
     ]
    }
   ],
   "source": [
    "# Problem 5\n",
    "import scipy.optimize as opt\n",
    "import math\n",
    "\n",
    "a = -10\n",
    "b = 10\n",
    "\n",
    "def eqs(x):\n",
    "    eq1 = x[0] + x[1] + x[2] - (b - a)\n",
    "    eq2 = x[0] * x[3] + x[1] * x[4] + x[2] * x[5] - ((1/2) * b ** 2 - (1/2) * a ** 2)\n",
    "    eq3 = x[0] * x[3] ** 2 + x[1] * x[4] ** 2 + x[2] * x[5] ** 2 - ((1/3) * b ** 3 - (1/3) * a ** 3)\n",
    "    eq4 = x[0] * x[3] ** 3 + x[1] * x[4] ** 3 + x[2] * x[5] ** 3 - ((1/4) * b ** 4 - (1/4) * a ** 4)\n",
    "    eq5 = x[0] * x[3] ** 4 + x[1] * x[4] ** 4 + x[2] * x[5] ** 4 - ((1/5) * b ** 5 - (1/5) * a ** 5)\n",
    "    eq6 = x[0] * x[3] ** 5 + x[1] * x[4] ** 5 + x[2] * x[5] ** 5 - ((1/6) * b ** 6 - (1/6) * a ** 6)\n",
    "    return (eq1, eq2, eq3, eq4, eq5, eq6)\n",
    "            \n",
    "            \n",
    "x = opt.root(eqs,(5, 10, 5, -6, 3, 6), tol = 1e-5).x\n",
    "print(x)\n",
    "weights = x[:3]\n",
    "points = x[3: 6]\n",
    "\n",
    "gaussian_quad = 0\n",
    "for i in range(3): \n",
    "    gaussian_quad  += (g(points[i])) * (weights[i])\n",
    "print(gaussian_quad)\n",
    "                                        "
   ]
  },
  {
   "cell_type": "code",
   "execution_count": 7,
   "metadata": {},
   "outputs": [
    {
     "name": "stdout",
     "output_type": "stream",
     "text": [
      "4373.333333333334\n"
     ]
    }
   ],
   "source": [
    "# Problem 6\n",
    "from scipy.integrate import quad\n",
    "print(quad(g, -10, 10)[0])"
   ]
  },
  {
   "cell_type": "markdown",
   "metadata": {},
   "source": [
    "The result from scipy.integrate.quad is very close to the true value."
   ]
  },
  {
   "cell_type": "code",
   "execution_count": 8,
   "metadata": {},
   "outputs": [
    {
     "data": {
      "text/plain": [
       "3.14048"
      ]
     },
     "execution_count": 8,
     "metadata": {},
     "output_type": "execute_result"
    }
   ],
   "source": [
    "# Problem 7\n",
    "def monte_carlo(N, omega = [-1, 1, -1, 1], g = lambda x, y: x ** 2 + y ** 2):\n",
    "    sum = 0\n",
    "    x = np.zeros(N)\n",
    "    y = np.zeros(N)\n",
    "    for i in range(N):\n",
    "        x[i] = 2 * np.random.random_sample() - 1\n",
    "        y[i] = 2 * np.random.random_sample() - 1\n",
    "        if g(x[i], y[i]) <= 1:\n",
    "            sum += 1\n",
    "    return (omega[1]-omega[0]) * (omega[3] - omega[2]) * sum/N\n",
    "\n",
    "monte_carlo(100000)"
   ]
  },
  {
   "cell_type": "code",
   "execution_count": 20,
   "metadata": {},
   "outputs": [
    {
     "name": "stdout",
     "output_type": "stream",
     "text": [
      "[ 0.07106781  0.66025404]\n",
      "[ 0.21320344  0.98076211]\n",
      "[ 0.07106781  0.93700526]\n",
      "[ 0.94528049  0.42768462]\n"
     ]
    }
   ],
   "source": [
    "# Problem 8\n",
    "from math import sqrt, exp\n",
    "\n",
    "def is_prime(x):\n",
    "    if x == 2: return True\n",
    "    if x < 2 or x % 2 == 0: return False\n",
    "    return not any(x % i == 0 for i in range(3, int(sqrt(x)) + 1, 2))\n",
    "\n",
    "def find_prime(n):\n",
    "    \"\"\"Return the nth prime number\"\"\"\n",
    "    primes = []\n",
    "    i = 1\n",
    "    k = 1\n",
    "    while i <= n :\n",
    "        if is_prime(k + 1) == True:\n",
    "            primes.append(k + 1)\n",
    "            i += 1\n",
    "        k += 1\n",
    "    primes = np.asarray(primes)\n",
    "    return primes\n",
    "\n",
    "def prob8(n, d, t):\n",
    "    x = np.zeros((n, d))\n",
    "    primes = find_prime(d)\n",
    "    if t == 'Weyl':\n",
    "        for i in range(n):\n",
    "            for j in range(d):\n",
    "                k = i + 1\n",
    "                x[i, j] = float(k * sqrt(primes[j])) - int(k * sqrt(primes[j]))\n",
    "    if t == 'Haber':\n",
    "        for i in range(n):\n",
    "            for j in range(d):\n",
    "                k = i + 1\n",
    "                x[i, j] = float(k * (k + 1)/2 * sqrt(primes[j])) - int(k *(k + 1)/2 * sqrt(primes[j]))\n",
    "    if t == 'Niederreiter':\n",
    "        for i in range(n):\n",
    "            for j in range(d):\n",
    "                k = i + 1\n",
    "                m = j + 1\n",
    "                x[i, j] = float(k * 2 ** (m/(m + 1))) - int(k * 2 ** (m/(m + 1)))\n",
    "    if t == 'Baker':\n",
    "        for i in range(n):\n",
    "            for j in range(d):\n",
    "                k = i + 1\n",
    "                x[i, j] = float(k * exp(primes[j])) - int(k * exp(primes[j]))\n",
    "    return x[n - 1,:]\n",
    "\n",
    "print(prob8(5, 2,'Weyl'))\n",
    "print(prob8(5, 2,'Haber'))\n",
    "print(prob8(5, 2,'Niederreiter'))\n",
    "print(prob8(5, 2,'Baker'))\n"
   ]
  },
  {
   "cell_type": "code",
   "execution_count": 22,
   "metadata": {},
   "outputs": [
    {
     "name": "stdout",
     "output_type": "stream",
     "text": [
      "3.142\n",
      "3.146\n",
      "3.1388\n",
      "3.1432\n"
     ]
    }
   ],
   "source": [
    "# Problem 9\n",
    "def monte_carlo_quasi1(N, omega = [-1, 1, -1, 1], g = lambda x, y: x ** 2 + y ** 2):\n",
    "    sum = 0\n",
    "    A = np.zeros((N, 2))\n",
    "    for i in range(N):\n",
    "        A[i] = 2 * prob8(i+1, 2, 'Weyl') - 1\n",
    "        if g(A[i, 0], A[i, 1]) <= 1:\n",
    "            sum += 1\n",
    "    return (omega[1]-omega[0]) * (omega[3] - omega[2]) * sum/N\n",
    "\n",
    "def monte_carlo_quasi2(N, omega = [-1, 1, -1, 1], g = lambda x, y: x ** 2 + y ** 2):\n",
    "    sum = 0\n",
    "    A = np.zeros((N, 2))\n",
    "    for i in range(N):\n",
    "        A[i] = 2 * prob8(i+1, 2, 'Haber') - 1\n",
    "        if g(A[i, 0], A[i, 1]) <= 1:\n",
    "            sum += 1\n",
    "    return (omega[1]-omega[0]) * (omega[3] - omega[2]) * sum/N\n",
    "\n",
    "def monte_carlo_quasi3(N, omega = [-1, 1, -1, 1], g = lambda x, y: x ** 2 + y ** 2):\n",
    "    sum = 0\n",
    "    A = np.zeros((N, 2))\n",
    "    for i in range(N):\n",
    "        A[i] = 2 * prob8(i+1, 2, 'Niederreiter') - 1\n",
    "        if g(A[i, 0], A[i, 1]) <= 1:\n",
    "            sum += 1\n",
    "    return (omega[1]-omega[0]) * (omega[3] - omega[2]) * sum/N\n",
    "\n",
    "def monte_carlo_quasi4(N, omega = [-1, 1, -1, 1], g = lambda x, y: x ** 2 + y ** 2):\n",
    "    sum = 0\n",
    "    A = np.zeros((N, 2))\n",
    "    for i in range(N):\n",
    "        A[i] = 2 * prob8(i+1, 2, 'Baker') - 1\n",
    "        if g(A[i, 0], A[i, 1]) <= 1:\n",
    "            sum += 1\n",
    "    return (omega[1]-omega[0]) * (omega[3] - omega[2]) * sum/N\n",
    "\n",
    "print(monte_carlo_quasi1(10000))\n",
    "print(monte_carlo_quasi2(10000))\n",
    "print(monte_carlo_quasi3(10000))\n",
    "print(monte_carlo_quasi4(10000))"
   ]
  }
 ],
 "metadata": {
  "kernelspec": {
   "display_name": "Python 3",
   "language": "python",
   "name": "python3"
  },
  "language_info": {
   "codemirror_mode": {
    "name": "ipython",
    "version": 3
   },
   "file_extension": ".py",
   "mimetype": "text/x-python",
   "name": "python",
   "nbconvert_exporter": "python",
   "pygments_lexer": "ipython3",
   "version": "3.6.1"
  }
 },
 "nbformat": 4,
 "nbformat_minor": 2
}
