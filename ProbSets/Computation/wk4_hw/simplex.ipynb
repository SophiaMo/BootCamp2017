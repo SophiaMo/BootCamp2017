{
 "cells": [
  {
   "cell_type": "code",
   "execution_count": 20,
   "metadata": {
    "collapsed": true
   },
   "outputs": [],
   "source": [
    "import numpy as np\n",
    "A = np.array([[1, -1], [3, 1], [4, 3]])\n",
    "b = np.array([2, 5, 7])\n",
    "c = np.array([3, 2])\n",
    "\n",
    "# Problem 1\n",
    "def check_origin(c, A, b):\n",
    "    if any(b < 0)==True:\n",
    "        raise ValueError\n",
    "    else:\n",
    "        pass\n",
    "\n",
    "check_origin(c, A, b)"
   ]
  },
  {
   "cell_type": "code",
   "execution_count": 21,
   "metadata": {},
   "outputs": [
    {
     "name": "stdout",
     "output_type": "stream",
     "text": [
      "[2, 3, 4, 0, 1]\n"
     ]
    }
   ],
   "source": [
    "# Problem 2\n",
    "def index_list(A):\n",
    "    m, n = A.shape\n",
    "    a = np.arange(n, n + m)\n",
    "    b = np.arange(0, n)\n",
    "    L = np.hstack([a, b])\n",
    "    L = np.ndarray.tolist(L)\n",
    "    return L\n",
    "\n",
    "L = index_list(A)\n",
    "print(L)"
   ]
  },
  {
   "cell_type": "code",
   "execution_count": 22,
   "metadata": {},
   "outputs": [
    {
     "name": "stdout",
     "output_type": "stream",
     "text": [
      "[[ 0. -3. -2. -0. -0. -0.  1.]\n",
      " [ 2.  1. -1.  1.  0.  0.  0.]\n",
      " [ 5.  3.  1.  0.  1.  0.  0.]\n",
      " [ 7.  4.  3.  0.  0.  1.  0.]]\n"
     ]
    }
   ],
   "source": [
    "# Problem 3\n",
    "def tableau(c, A, b):\n",
    "    ''' c - 1*n\n",
    "        A - m*n\n",
    "        b - 1*n\n",
    "    '''\n",
    "    m, n = A.shape\n",
    "    c_bar = np.concatenate([c, np.zeros(m)])\n",
    "    c_bar1 = -1 * c_bar\n",
    "    A_bar = np.concatenate([A, np.eye(m)], axis = 1)\n",
    "    T1 = np.concatenate([np.array([0]), c_bar1, np.array([1])])\n",
    "    T2 = np.hstack([b.reshape(len(b), 1), A_bar, np.zeros((m, 1))])\n",
    "    T = np.vstack([T1, T2])\n",
    "    return T\n",
    "\n",
    "T = tableau(c, A, b)\n",
    "print(T)"
   ]
  },
  {
   "cell_type": "code",
   "execution_count": 23,
   "metadata": {},
   "outputs": [
    {
     "data": {
      "text/plain": [
       "(3, 2)"
      ]
     },
     "execution_count": 23,
     "metadata": {},
     "output_type": "execute_result"
    }
   ],
   "source": [
    "# Problem 4\n",
    "def pivot(T):\n",
    "    p, q = T.shape\n",
    "    T1 = T[0, 1:]\n",
    "    column = np.where(T1 < 0)[0][0] + 1\n",
    "    if all(T[:, column] <= 0)== True:\n",
    "        raise ValueError\n",
    "    else:\n",
    "        find_positive = np.where(T[:, column] > 0)[0]\n",
    "        mat = np.zeros(len(find_positive)) #initialize matrix for calculating ratio\n",
    "        for i in range(len(find_positive)):\n",
    "            mat[i] = float(T[find_positive[i], 0]/T[find_positive[i], column])\n",
    "        m = np.where(mat==min(mat))[0][0]\n",
    "        row = find_positive[m]\n",
    "        \n",
    "    return row+1, column+1 \n",
    "\n",
    "pivot(T)"
   ]
  },
  {
   "cell_type": "code",
   "execution_count": 24,
   "metadata": {},
   "outputs": [
    {
     "data": {
      "text/plain": [
       "(array([[ 5.        ,  0.        , -1.        ,  0.        ,  1.        ,\n",
       "          0.        ,  1.        ],\n",
       "        [ 0.33333333,  0.        , -1.33333333,  1.        , -0.33333333,\n",
       "          0.        ,  0.        ],\n",
       "        [ 1.66666667,  1.        ,  0.33333333,  0.        ,  0.33333333,\n",
       "          0.        ,  0.        ],\n",
       "        [ 0.33333333,  0.        ,  1.66666667,  0.        , -1.33333333,\n",
       "          1.        ,  0.        ]]), [2, 0, 4, 3, 1])"
      ]
     },
     "execution_count": 24,
     "metadata": {},
     "output_type": "execute_result"
    }
   ],
   "source": [
    "# Problem 5\n",
    "def operation(T, L):\n",
    "    T_new = np.copy(T)\n",
    "    m, n = pivot(T)\n",
    "    a, b = m - 2, L.index(n - 2) # tracking variables\n",
    "    p, q = T.shape\n",
    "    m = m - 1\n",
    "    n = n - 1\n",
    "    if T[m, n] == 0:\n",
    "        T_new[m,:] = T[m, :]\n",
    "    else:\n",
    "        T_new[m,:] = T[m, :]/float(T[m, n])\n",
    "    for i in range(p):\n",
    "        if i == m or T[i, n] == 0:\n",
    "            T_new[i, :] = T_new[i, :]\n",
    "        else:\n",
    "            T_new[i, :] = T_new[i, :] - float((T_new[i, n]/T_new[m, n])) * T_new[m, :]\n",
    "    L[a], L[b] = L[b], L[a]\n",
    "    return T_new, L\n",
    "\n",
    "operation(T, L)"
   ]
  },
  {
   "cell_type": "code",
   "execution_count": 25,
   "metadata": {},
   "outputs": [
    {
     "name": "stdout",
     "output_type": "stream",
     "text": [
      "(5.2, {2: 0.6, 0: 1.6, 1: 0.2}, {3: 0.0, 4: 0.0})\n"
     ]
    }
   ],
   "source": [
    "# Problem 6\n",
    "def solve(T_old, L_old):\n",
    "    tol = -1e-10\n",
    "    while any(T_old[0, 1:] < tol) == True:\n",
    "        T_new, L_new = operation(T_old, L_old)\n",
    "        T_old = np.copy(T_new)\n",
    "        L_old = L_new\n",
    "    values1 = np.ndarray.tolist(T_old[1:,0])\n",
    "    D1 = dict(zip(L_old[:len(values1)], [float(str(round(i, 2))) for i in values1]))\n",
    "    D2 = dict(zip((L_old[len(values1):]), np.zeros(len(L_old) - len(values1))))\n",
    "    return float(T_old[0,0]), D1, D2\n",
    "\n",
    "print(solve(T, L))"
   ]
  },
  {
   "cell_type": "code",
   "execution_count": 26,
   "metadata": {},
   "outputs": [
    {
     "name": "stdout",
     "output_type": "stream",
     "text": [
      "[[ 0.12  0.18  0.13  0.07]\n",
      " [ 0.15  0.12  0.13  0.11]\n",
      " [ 0.1   0.1   0.1   0.12]]\n",
      "[ 250.  215.  275.  180.]\n",
      "[ 4.  4.  4.]\n",
      "[ 10.  20.  12.  10.]\n"
     ]
    }
   ],
   "source": [
    "# Problem 7\n",
    "data = np.load('/Users/Sophia/Downloads/productMix.npz')\n",
    "A = data['A']\n",
    "p = data['p']\n",
    "m = data['m']\n",
    "d = data['d']\n",
    "print(A)\n",
    "print(p)\n",
    "print(m)\n",
    "print(d)"
   ]
  },
  {
   "cell_type": "code",
   "execution_count": 27,
   "metadata": {},
   "outputs": [
    {
     "data": {
      "text/plain": [
       "(7453.596491228071,\n",
       " {0: 10.0, 1: 6.19, 2: 12.0, 3: 1.79, 6: 0.97, 8: 13.81, 10: 8.21},\n",
       " {4: 0.0, 5: 0.0, 7: 0.0, 9: 0.0})"
      ]
     },
     "execution_count": 27,
     "metadata": {},
     "output_type": "execute_result"
    }
   ],
   "source": [
    "A = np.vstack([A, np.eye(4)])\n",
    "b = np.hstack([m, d])\n",
    "L = index_list(A)\n",
    "T = tableau(p, A, b)\n",
    "solve(T, L)"
   ]
  }
 ],
 "metadata": {
  "kernelspec": {
   "display_name": "Python 3",
   "language": "python",
   "name": "python3"
  },
  "language_info": {
   "codemirror_mode": {
    "name": "ipython",
    "version": 3
   },
   "file_extension": ".py",
   "mimetype": "text/x-python",
   "name": "python",
   "nbconvert_exporter": "python",
   "pygments_lexer": "ipython3",
   "version": "3.6.1"
  }
 },
 "nbformat": 4,
 "nbformat_minor": 2
}
