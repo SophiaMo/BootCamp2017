{
 "cells": [
  {
   "cell_type": "code",
   "execution_count": 2,
   "metadata": {},
   "outputs": [
    {
     "name": "stdout",
     "output_type": "stream",
     "text": [
      "1.3873242644286792\n",
      "1.38629442227\n",
      "time: 0.0003027915954589844\n"
     ]
    }
   ],
   "source": [
    "import numpy as np\n",
    "from scipy.optimize import fminbound\n",
    "import time\n",
    "\n",
    "# Problem 1\n",
    "def golden_ratio(f, a, b, niter):\n",
    "    i = 1\n",
    "    rho = 0.382\n",
    "    while i < niter:\n",
    "        a_prime = a + rho * (b - a)\n",
    "        b_prime = a + (1 - rho) * (b - a)\n",
    "        if f(a_prime) >= f(b_prime):\n",
    "            a = a_prime\n",
    "        else:\n",
    "            b = b_prime\n",
    "        i += 1\n",
    "    return (a + b)/2\n",
    "\n",
    "start = time.time()\n",
    "f = lambda x: np.exp(x) - 4 * x\n",
    "print(golden_ratio(f, 0, 3, 13))\n",
    "end = time.time()\n",
    "print(fminbound(f, 0, 3))            \n",
    "print('time: '+str(end - start))"
   ]
  },
  {
   "cell_type": "code",
   "execution_count": 3,
   "metadata": {},
   "outputs": [
    {
     "name": "stdout",
     "output_type": "stream",
     "text": [
      "1.3857421875\n",
      "1.38629442227\n",
      "time: 0.003435850143432617\n"
     ]
    }
   ],
   "source": [
    "# Problem 2\n",
    "from autograd import grad, jacobian\n",
    "import autograd.numpy as anp\n",
    "def bisection(f, a, b, niter):\n",
    "    i = 1\n",
    "    gradf = grad(f)\n",
    "    while i < niter:\n",
    "        x = (a + b)/2\n",
    "        if gradf(x) > 0:\n",
    "            b = x\n",
    "        else:\n",
    "            a = x\n",
    "        i += 1\n",
    "    return (a + b)/2\n",
    "\n",
    "start1 = time.time()\n",
    "f = lambda x: anp.exp(x) - 4 * x\n",
    "print(bisection(f, 0, 3, 10))\n",
    "end1 = time.time()\n",
    "print(fminbound(f, 0, 3))            \n",
    "print('time: '+str(end1 - start1))"
   ]
  },
  {
   "cell_type": "code",
   "execution_count": 4,
   "metadata": {},
   "outputs": [
    {
     "name": "stdout",
     "output_type": "stream",
     "text": [
      "0.871281083076\n",
      "-1.44731422363\n",
      "2.01204156806\n",
      "0.871282015547\n"
     ]
    }
   ],
   "source": [
    "# Problem 3\n",
    "def Newton(f, f1, f2, x):\n",
    "    tol = 1e-10\n",
    "    i = 0\n",
    "    max_iter = 3000\n",
    "    dist = 1\n",
    "    x0 = x\n",
    "    while i < max_iter and dist > tol:\n",
    "        x1 = x0\n",
    "        x0 = x0 - f1(x0)/f2(x0)\n",
    "        dist = abs(x1 - x0)\n",
    "        i += 1\n",
    "    if i < max_iter:\n",
    "        return x0\n",
    "    else:\n",
    "        raise ValueError\n",
    "\n",
    "f = lambda x: x ** 2 + np.sin(5 * x)\n",
    "f1 = lambda x: 2 * x + 5 * np.cos(5 * x)\n",
    "f2 = lambda x: 2 - 25 * np.sin(5 * x)\n",
    "print(Newton(f, f1, f2, 1))\n",
    "print(Newton(f, f1, f2, 0))\n",
    "print(Newton(f, f1, f2, 5))\n",
    "print(fminbound(f, 0, 5))"
   ]
  },
  {
   "cell_type": "markdown",
   "metadata": {
    "collapsed": true
   },
   "source": [
    "Since the funciton oscillates a lot, starting from different initial values yield different local minimum."
   ]
  },
  {
   "cell_type": "code",
   "execution_count": 5,
   "metadata": {},
   "outputs": [
    {
     "name": "stdout",
     "output_type": "stream",
     "text": [
      "-0.163677221182\n"
     ]
    },
    {
     "data": {
      "image/png": "[encoded data removed]",
      "text/plain": [
       "<matplotlib.figure.Figure at 0x10f915b70>"
      ]
     },
     "metadata": {},
     "output_type": "display_data"
    }
   ],
   "source": [
    "# Problem 4\n",
    "from matplotlib import pyplot as plt\n",
    "def secant(f, f1, x0, x1):\n",
    "    tol = 1e-10\n",
    "    i = 0\n",
    "    max_iter = 3000\n",
    "    dist = 1\n",
    "    while i < max_iter and dist > tol:\n",
    "        if float(f1(x1) - f1(x0)) != 0:\n",
    "            x2 = x1 - ((x1 - x0)/(f1(x1) - f1(x0))) * f1(x1)\n",
    "            dist = abs(x2 - x1)\n",
    "            x0 = x1\n",
    "            x1 = x2\n",
    "        else:\n",
    "            print('iteration: '+ str(i)+' encounters 0 in denominator')\n",
    "            return x1\n",
    "        i += 1\n",
    "    return x1\n",
    "    \n",
    "f = lambda x: x ** 2 + np.sin(x) + np.sin(10 * x)\n",
    "f1 = lambda x: 2 * x + np.cos(x) + 10 * np.cos(10 * x)\n",
    "print(secant(f, f1, 0, -1))\n",
    "x = np.linspace(-10, 10, 200)\n",
    "plt.plot(x, f(x))\n",
    "plt.show()"
   ]
  },
  {
   "cell_type": "markdown",
   "metadata": {
    "collapsed": true
   },
   "source": [
    "The curve is very bumpy so the result of the algorithm depends on initial guesses."
   ]
  },
  {
   "cell_type": "code",
   "execution_count": 7,
   "metadata": {
    "collapsed": true
   },
   "outputs": [],
   "source": [
    "# Problem 5\n",
    "def backtracking(f, f1, x, p, a=1, rho=.7, c=0.1):\n",
    "    '''f: function\n",
    "       f1: derivative \n",
    "       x: starting point \n",
    "       p: direction \n",
    "    '''\n",
    "    i = 0\n",
    "    max_iter = 3000\n",
    "    while f(x + a * p) > f(x) + c * a * np.dot(f1(x), p) and i <max_iter:\n",
    "        a *= rho\n",
    "        i += 1\n",
    "    if i < maxiter:   \n",
    "        return a\n",
    "    else:\n",
    "        raise ValueError"
   ]
  }
 ],
 "metadata": {
  "kernelspec": {
   "display_name": "Python 3",
   "language": "python",
   "name": "python3"
  },
  "language_info": {
   "codemirror_mode": {
    "name": "ipython",
    "version": 3
   },
   "file_extension": ".py",
   "mimetype": "text/x-python",
   "name": "python",
   "nbconvert_exporter": "python",
   "pygments_lexer": "ipython3",
   "version": "3.6.1"
  }
 },
 "nbformat": 4,
 "nbformat_minor": 2
}
