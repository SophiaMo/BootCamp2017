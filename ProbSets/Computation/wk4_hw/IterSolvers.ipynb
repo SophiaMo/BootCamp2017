{
 "cells": [
  {
   "cell_type": "code",
   "execution_count": 15,
   "metadata": {
    "collapsed": true
   },
   "outputs": [],
   "source": [
    "import numpy as np\n",
    "import scipy.linalg as la\n",
    "\n",
    "def prob1(A, b, tol=1e-10, maxiters=200):\n",
    "    D = np.diag(np.diag(A))\n",
    "    D_inv = np.diag(1/np.diag(A))\n",
    "    L = np.triu(A, k=1)\n",
    "    U = np.tril(A, k=-1)\n",
    "    x0 = np.zeros_like(b)\n",
    "    for k in range(maxiters): \n",
    "        x1 = x0 + np.dot(D_inv, b-np.dot(A, x0))\n",
    "        if la.norm(x1 - x0) < tol: \n",
    "            break\n",
    "        x0 = x1\n",
    "    return x0"
   ]
  },
  {
   "cell_type": "code",
   "execution_count": 16,
   "metadata": {},
   "outputs": [
    {
     "data": {
      "text/plain": [
       "True"
      ]
     },
     "execution_count": 16,
     "metadata": {},
     "output_type": "execute_result"
    }
   ],
   "source": [
    "def diag_dom(n, num_entries=None):\n",
    "    if num_entries is None:\n",
    "        num_entries = int(n**1.5) - n\n",
    "    A = np.zeros((n,n))\n",
    "    rows = np.random.choice(np.arange(0,n), size=num_entries)\n",
    "    cols = np.random.choice(np.arange(0,n), size=num_entries)\n",
    "    data = np.random.randint(-4, 4, size=num_entries)\n",
    "    for i in range(num_entries):\n",
    "        A[rows[i], cols[i]] = data[i]\n",
    "    for i in range(n):\n",
    "        A[i,i] = np.sum(np.abs(A[i])) + 1\n",
    "    return A\n",
    "\n",
    "A = diag_dom(8)\n",
    "b = np.random.random(8)\n",
    "\n",
    "np.allclose(np.dot(A, prob1(A, b)), b)"
   ]
  },
  {
   "cell_type": "code",
   "execution_count": 17,
   "metadata": {},
   "outputs": [
    {
     "data": {
      "image/png": "[encoded data removed]",
      "text/plain": [
       "<matplotlib.figure.Figure at 0x1127d9358>"
      ]
     },
     "metadata": {},
     "output_type": "display_data"
    },
    {
     "data": {
      "text/plain": [
       "array([ 0.09099943,  0.16254627, -0.08632253,  0.26154766,  0.12947583,\n",
       "        0.19996061,  0.01491545,  0.2183776 ])"
      ]
     },
     "execution_count": 17,
     "metadata": {},
     "output_type": "execute_result"
    }
   ],
   "source": [
    "# Problem 2\n",
    "from matplotlib import pyplot as plt\n",
    "def prob2(A, b, tol=1e-10, maxiters=200, plot=False):\n",
    "    D = np.diag(np.diag(A))\n",
    "    D_inv = np.diag(1/np.diag(A))\n",
    "    L = np.triu(A, k=1)\n",
    "    U = np.tril(A, k=-1)\n",
    "    x0 = np.zeros_like(b)\n",
    "    e = np.zeros(maxiters)\n",
    "    for k in range(maxiters): \n",
    "        x1 = x0 + np.dot(D_inv, b-np.dot(A, x0))\n",
    "        e[k] = la.norm(x1 - x0)\n",
    "        if e[k] < tol: \n",
    "            break\n",
    "        x0 = x1\n",
    "    if plot is True:\n",
    "        plt.semilogy(np.arange(1, maxiters+1), e)\n",
    "        plt.title('Convergence of Jacobi Method')\n",
    "        plt.xlim(0, 30)\n",
    "        plt.show()\n",
    "    return x0\n",
    "\n",
    "prob2(A, b, plot=True)"
   ]
  },
  {
   "cell_type": "code",
   "execution_count": 18,
   "metadata": {},
   "outputs": [
    {
     "name": "stdout",
     "output_type": "stream",
     "text": [
      "True\n"
     ]
    },
    {
     "data": {
      "image/png": "[encoded data removed]",
      "text/plain": [
       "<matplotlib.figure.Figure at 0x1120f1128>"
      ]
     },
     "metadata": {},
     "output_type": "display_data"
    },
    {
     "data": {
      "text/plain": [
       "array([ 0.23517767,  0.42180037,  0.04488173, -0.0016071 ,  0.10116485,\n",
       "        0.07588232,  0.54371405,  0.10162886])"
      ]
     },
     "execution_count": 18,
     "metadata": {},
     "output_type": "execute_result"
    }
   ],
   "source": [
    "# Problem 3\n",
    "def prob3(A, b, tol=1e-6, maxiters=200, plot=False):\n",
    "    x0 = np.zeros_like(b)\n",
    "    x1 = np.zeros_like(b)\n",
    "    e = np.zeros(maxiters)\n",
    "    for k in range(maxiters): \n",
    "        x = np.copy(x0)\n",
    "        for i in range(len(b)):\n",
    "            x1[i] = x0[i] + 1/A[i, i] * (b[i] - np.dot(A[i, :].T, x0))\n",
    "        e[k] = la.norm(x1 - x)\n",
    "        if e[k] < tol: \n",
    "            break\n",
    "        x0 = x1\n",
    "    if plot is True:\n",
    "        plt.semilogy(np.arange(1, maxiters+1), e)\n",
    "        plt.title('Convergence of Gauss-Seidel Method')\n",
    "        plt.xlim(0, 15)\n",
    "        plt.show()\n",
    "    return x0\n",
    "\n",
    "A = diag_dom(8)\n",
    "b = np.random.random(8)\n",
    "\n",
    "print(np.allclose(np.dot(A, prob3(A, b)), b))\n",
    "prob3(A, b, plot=True)"
   ]
  },
  {
   "cell_type": "code",
   "execution_count": 19,
   "metadata": {},
   "outputs": [
    {
     "data": {
      "text/plain": [
       "True"
      ]
     },
     "execution_count": 19,
     "metadata": {},
     "output_type": "execute_result"
    }
   ],
   "source": [
    "# Problem 4\n",
    "import scipy.sparse as sparse\n",
    "\n",
    "def prob4(A, b, tol=1e-6, maxiters=200):\n",
    "    x0 = np.zeros_like(b)\n",
    "    x1 = np.zeros_like(b)\n",
    "    e = np.zeros(maxiters)\n",
    "    for k in range(maxiters): \n",
    "        x = np.copy(x0)\n",
    "        for i in range(len(b)):\n",
    "            rowstart = A.indptr[i]\n",
    "            rowend = A.indptr[i+1]\n",
    "            Aix = A.data[rowstart:rowend] @ x0[A.indices[rowstart:rowend]]\n",
    "            x1[i] = x0[i] + 1/A[i,i] * (b[i] - Aix)\n",
    "        e[k] = la.norm(x1 - x)\n",
    "        if e[k] < tol: \n",
    "            break\n",
    "        x0 = x1\n",
    "    return x0\n",
    "\n",
    "A = sparse.csr_matrix(diag_dom(500))\n",
    "b = np.random.random(500)\n",
    "np.allclose(A@prob4(A, b), b)"
   ]
  },
  {
   "cell_type": "code",
   "execution_count": 20,
   "metadata": {
    "collapsed": true
   },
   "outputs": [],
   "source": [
    "# Problem 5\n",
    "def prob5(A, b, w, tol=1e-6, maxiters=1000):\n",
    "    x0 = np.zeros_like(b)\n",
    "    x1 = np.zeros_like(b)\n",
    "    e = np.zeros(maxiters)\n",
    "    j = 0\n",
    "    for k in range(maxiters): \n",
    "        x = np.copy(x0)\n",
    "        for i in range(len(b)):\n",
    "            rowstart = A.indptr[i]\n",
    "            rowend = A.indptr[i+1]\n",
    "            Aix = A.data[rowstart:rowend] @ x0[A.indices[rowstart:rowend]]\n",
    "            x1[i] = x0[i] + w/A[i,i] * (b[i] - Aix)\n",
    "        e[k] = la.norm(x1 - x)\n",
    "        if e[k] < tol: \n",
    "            break\n",
    "        j = np.where(e<tol)[0]\n",
    "        if len(j) == 0:\n",
    "            j = maxiters\n",
    "        else:\n",
    "            j = j[0]\n",
    "        x0 = x1\n",
    "    return x0, j"
   ]
  },
  {
   "cell_type": "code",
   "execution_count": 21,
   "metadata": {
    "collapsed": true
   },
   "outputs": [],
   "source": [
    "# Problem 6\n",
    "def prob6(n, w, tol=1e-8, maxiters=100, plot=False):\n",
    "    nx, ny = n, n\n",
    "    N  = nx*ny\n",
    "    main_diag = np.ones(N) * (-4.0)\n",
    "    side_diag = np.ones(N-1)\n",
    "    side_diag[np.arange(1,N)%4==0] = 0\n",
    "    up_down_diag = np.ones(N-3)\n",
    "    diagonals = [main_diag,side_diag,side_diag,up_down_diag,up_down_diag]\n",
    "    A = sparse.diags(diagonals, [0, -1, 1,nx,-nx], format=\"csr\")\n",
    "    c = np.zeros(n)\n",
    "    c[0] = -100\n",
    "    c[-1] = -100\n",
    "    b = np.tile(c, n)\n",
    "    u = np.array(prob5(A, b, w)[0])\n",
    "    u = u.reshape((n, n))\n",
    "    if plot is True:\n",
    "        x = np.arange(0, n + 1)\n",
    "        y = np.arange(0, n + 1)\n",
    "        plt.pcolormesh(x, y, u, cmap='coolwarm')\n",
    "        plt.colorbar() \n",
    "        plt.show()\n",
    "    return prob5(A, b, w)[1] # number of iterations"
   ]
  },
  {
   "cell_type": "code",
   "execution_count": 22,
   "metadata": {},
   "outputs": [
    {
     "data": {
      "image/png": "[encoded data removed]",
      "text/plain": [
       "<matplotlib.figure.Figure at 0x112810160>"
      ]
     },
     "metadata": {},
     "output_type": "display_data"
    },
    {
     "data": {
      "text/plain": [
       "163"
      ]
     },
     "execution_count": 22,
     "metadata": {},
     "output_type": "execute_result"
    }
   ],
   "source": [
    "prob6(20, 0.7, plot=True)"
   ]
  },
  {
   "cell_type": "code",
   "execution_count": 23,
   "metadata": {},
   "outputs": [
    {
     "data": {
      "image/png": "[encoded data removed]",
      "text/plain": [
       "<matplotlib.figure.Figure at 0x10dd9dc18>"
      ]
     },
     "metadata": {},
     "output_type": "display_data"
    }
   ],
   "source": [
    "w = np.arange(1, 2, 0.05)\n",
    "n = np.zeros_like(w)\n",
    "for i in range(len(w)):\n",
    "    n[i] = prob6(20, w[i], tol=1e-2, maxiters=1000, plot=False)\n",
    "plt.plot(w, n)\n",
    "plt.xlabel('number of iterations')\n",
    "plt.ylabel('relaxing factor')\n",
    "plt.show()"
   ]
  }
 ],
 "metadata": {
  "kernelspec": {
   "display_name": "Python 3",
   "language": "python",
   "name": "python3"
  },
  "language_info": {
   "codemirror_mode": {
    "name": "ipython",
    "version": 3
   },
   "file_extension": ".py",
   "mimetype": "text/x-python",
   "name": "python",
   "nbconvert_exporter": "python",
   "pygments_lexer": "ipython3",
   "version": "3.6.1"
  }
 },
 "nbformat": 4,
 "nbformat_minor": 2
}
