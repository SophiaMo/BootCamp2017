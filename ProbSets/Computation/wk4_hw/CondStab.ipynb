{
 "cells": [
  {
   "cell_type": "code",
   "execution_count": 4,
   "metadata": {},
   "outputs": [
    {
     "name": "stdout",
     "output_type": "stream",
     "text": [
      "101.990195136\n",
      "101.990195136\n"
     ]
    }
   ],
   "source": [
    "import numpy as np\n",
    "from scipy import linalg as la\n",
    "# Problem 1\n",
    "def cond(A):\n",
    "    a = la.svdvals(A)\n",
    "    n = a[0]/a[-1]\n",
    "    return n\n",
    "\n",
    "a = np.array([[1,2], [4, 9]])\n",
    "print(cond(a))\n",
    "print(np.linalg.cond(a))"
   ]
  },
  {
   "cell_type": "code",
   "execution_count": 128,
   "metadata": {
    "collapsed": true
   },
   "outputs": [],
   "source": [
    "# Problem 2\n",
    "import sympy as sy\n",
    "from matplotlib import pyplot as plt\n",
    "# The roots of w are 1, 2, ..., 20.\n",
    "w_roots = np.arange(1, 21)\n",
    "# Get the exact Wilkinson polynomial coefficients using SymPy.\n",
    "x, i = sy.symbols('x i')\n",
    "w = sy.poly_from_expr(sy.product(x-i, (i, 1, 20)))[0]\n",
    "w_coeffs = np.array(w.all_coeffs())\n",
    "w_roots = np.sort(w_roots)\n",
    "k = np.zeros(100)\n",
    "rel = np.zeros(100)\n",
    "\n",
    "def exper():\n",
    "    # Perturb one of the coefficients very slightly.\n",
    "    ite = 1\n",
    "    while ite < 100:\n",
    "        h = np.random.normal(1, 1e-10)\n",
    "        h = np.array(h, dtype='complex')\n",
    "        new_coeffs = w_coeffs * h\n",
    "        new_coeffs = np.array(new_coeffs, dtype = 'complex')\n",
    "    # Use NumPy to compute the roots of the perturbed polynomial.\n",
    "        new_roots = np.roots(new_coeffs)\n",
    "        new_roots = np.sort(new_roots)\n",
    "        plt.scatter(new_roots.real, new_roots.imag, c = 'black', marker = ',', s = 4)\n",
    "        plt.ylim(-1e-4, 1e-4)\n",
    "        k[ite] = la.norm(new_roots - w_roots, np.inf) / h\n",
    "        rel[ite] = k[ite] * la.norm(w_coeffs, np.inf) / la.norm(w_roots, np.inf)\n",
    "        ite += 1\n",
    "    plt.scatter(w_roots.real, w_roots.imag, c = 'b', marker = 'o')\n",
    "    plt.show()\n",
    "    return np.mean(k), np.mean(rel)"
   ]
  },
  {
   "cell_type": "code",
   "execution_count": 129,
   "metadata": {},
   "outputs": [
    {
     "data": {
      "image/png": "[encoded data removed]",
      "text/plain": [
       "<matplotlib.figure.Figure at 0x112fe4a90>"
      ]
     },
     "metadata": {},
     "output_type": "display_data"
    },
    {
     "data": {
      "text/plain": [
       "(0.029874375281599148, 20618934958864852.0)"
      ]
     },
     "execution_count": 129,
     "metadata": {},
     "output_type": "execute_result"
    }
   ],
   "source": [
    "import warnings\n",
    "warnings.filterwarnings('ignore')\n",
    "exper()"
   ]
  },
  {
   "cell_type": "code",
   "execution_count": 131,
   "metadata": {
    "collapsed": true
   },
   "outputs": [],
   "source": [
    "# Problem 3\n",
    "def cond_complex(A):\n",
    "    reals = np.random.normal(0, 1e-10, A.shape)\n",
    "    imags = np.random.normal(0, 1e-10, A.shape)\n",
    "    H = reals + 1j*imags\n",
    "    v = la.eigvals(A)\n",
    "    v_tilde = la.eigvals(A + H)\n",
    "    k_hat = la.norm(v - v_tilde)/la.norm(H)\n",
    "    k = la.norm(A)/la.norm(v) * k_hat\n",
    "    return k_hat, k"
   ]
  },
  {
   "cell_type": "code",
   "execution_count": null,
   "metadata": {
    "collapsed": true
   },
   "outputs": [],
   "source": [
    "# Problem 4\n",
    "def prob4(bound, res):\n",
    "    "
   ]
  }
 ],
 "metadata": {
  "kernelspec": {
   "display_name": "Python 3",
   "language": "python",
   "name": "python3"
  },
  "language_info": {
   "codemirror_mode": {
    "name": "ipython",
    "version": 3
   },
   "file_extension": ".py",
   "mimetype": "text/x-python",
   "name": "python",
   "nbconvert_exporter": "python",
   "pygments_lexer": "ipython3",
   "version": "3.6.1"
  }
 },
 "nbformat": 4,
 "nbformat_minor": 2
}
