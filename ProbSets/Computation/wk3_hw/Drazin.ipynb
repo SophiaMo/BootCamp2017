{
 "cells": [
  {
   "cell_type": "code",
   "execution_count": 1,
   "metadata": {},
   "outputs": [
    {
     "name": "stdout",
     "output_type": "stream",
     "text": [
      "True\n",
      "True\n"
     ]
    }
   ],
   "source": [
    "# Problem 1\n",
    "import numpy as np\n",
    "from scipy import linalg as la\n",
    "def is_drazin(A, k , AD):\n",
    "    a = np.allclose(np.dot(AD, A), np.dot(A,AD))\n",
    "    b = np.allclose(np.dot(np.linalg.matrix_power(A, k+1), AD), np.linalg.matrix_power(A, k))\n",
    "    c = np.allclose(np.dot(np.dot(AD, A),AD), AD)\n",
    "    d = [a, b, c]\n",
    "    if all(d) is True:\n",
    "        return True\n",
    "    else:\n",
    "        return False\n",
    "\n",
    "A = np.array([[1,3,0,0],[0,1,3,0],[0,0,1,3],[0,0,0,0]])\n",
    "AD = np.array([[1,-3,9,81],[0,1,-3,-18],[0,0,1,3],[0,0,0,0]])\n",
    "print(is_drazin(A, 1, AD))\n",
    "B = np.array([[1,1,3],[5,2,6],[-2,-1,-3]])\n",
    "BD = np.zeros((3,3))\n",
    "print(is_drazin(B, 3, BD))"
   ]
  },
  {
   "cell_type": "code",
   "execution_count": 2,
   "metadata": {},
   "outputs": [
    {
     "name": "stdout",
     "output_type": "stream",
     "text": [
      "[[  1.  -3.   9.  81.]\n",
      " [  0.   1.  -3. -18.]\n",
      " [  0.   0.   1.   3.]\n",
      " [  0.   0.   0.   0.]]\n",
      "[[ 0.  0.  0.]\n",
      " [ 0.  0.  0.]\n",
      " [ 0.  0.  0.]]\n"
     ]
    }
   ],
   "source": [
    "# Problem 2\n",
    "def drazin(A, tol = 1e-5):\n",
    "    n, n = np.shape(A)\n",
    "    f = lambda x: abs(x) > tol\n",
    "    Q1, S, k1 = la.schur(A, sort=f)\n",
    "    f = lambda x: abs(x) <= tol\n",
    "    Q2, T, k2 = la.schur(A, sort=f)\n",
    "    U = np.concatenate((S[:,:k1],T[:,:n-k1]), axis=1)\n",
    "    U_inv = la.inv(U)\n",
    "    V = np.dot(np.dot(U_inv, A), U)\n",
    "    Z = np.zeros((n,n), dtype = float)\n",
    "    if k1 != 0:\n",
    "        M_inv=la.inv(V[:k1,:k1])\n",
    "        Z[:k1,:k1] = M_inv\n",
    "    return np.dot(np.dot(U, Z), U_inv)\n",
    "\n",
    "print(drazin(A))\n",
    "print(drazin(B))"
   ]
  },
  {
   "cell_type": "code",
   "execution_count": 3,
   "metadata": {},
   "outputs": [
    {
     "name": "stdout",
     "output_type": "stream",
     "text": [
      "[[ 0.  3.  1.  2.]\n",
      " [ 3.  0.  2.  1.]\n",
      " [ 1.  2.  0.  1.]\n",
      " [ 2.  1.  1.  0.]]\n",
      "[[ 0.          0.66666667  0.66666667]\n",
      " [ 0.66666667  0.          0.66666667]\n",
      " [ 0.66666667  0.66666667  0.        ]]\n"
     ]
    }
   ],
   "source": [
    "# Problem 3\n",
    "def ef_res(A):\n",
    "    n,n = np.shape(A)\n",
    "    # Calculate Laplacian\n",
    "    diag = np.sum(A,axis=1)\n",
    "    D = np.diag(diag)\n",
    "    L = D - A\n",
    "    I = np.identity(n)\n",
    "    R = np.zeros((n, n))\n",
    "    for j in range(n):\n",
    "        L_tilde = np.copy(L)\n",
    "        L_tilde[j, :] = I[j, :]\n",
    "        R[:, j] = np.diag(drazin(L_tilde))\n",
    "        R[j, j] = 0\n",
    "    return R\n",
    "\n",
    "A = np.array([[0,0,1,0],[0,0,0,1],[1,0,0,1],[0,1,1,0]])\n",
    "print(ef_res(A))\n",
    "C = np.array([[0,1,1],[1,0,1],[1,1,0]])\n",
    "print(ef_res(C))"
   ]
  },
  {
   "cell_type": "code",
   "execution_count": 6,
   "metadata": {
    "collapsed": true
   },
   "outputs": [],
   "source": [
    "# Problem 4\n",
    "import pandas as pd\n",
    "\n",
    "class LinkPredictor():\n",
    "    def __init__(self, name = 'social_network.csv'):\n",
    "        \n",
    "        data = pd.read_csv(name, header = None, index_col=False).astype(str)\n",
    "        data = data.values\n",
    "        m = np.shape(data)[0]\n",
    "        ppl, index = np.unique(data, return_inverse=True)\n",
    "        self.names = ppl\n",
    "        index = index.reshape(m, 2)\n",
    "        \n",
    "        adj = np.zeros((len(ppl) , len(ppl)))\n",
    "        for i in range(m):\n",
    "            adj[index[i, 0], index[i, 1]] = 1\n",
    "            adj[index[i, 1], index[i, 0]] = 1\n",
    "            \n",
    "        self.adjacency = adj  \n",
    "        self.resistance = ef_res(adj)\n",
    "    \n",
    "    def predict_link(self, node = None):\n",
    "        R = self.resistance\n",
    "        A = self.adjacency\n",
    "        N = self.names\n",
    "        R = R * [A==0]\n",
    "        R[R==0] = np.inf\n",
    "        \n",
    "        if node is None:\n",
    "            minres = np.min(R)\n",
    "            nodes = np.where(R == minres)\n",
    "            return N[nodes[0]], N[nodes[1]]\n",
    "        elif np.any(N[N == node]):\n",
    "            node1 = np.where(N == node)[0][0]\n",
    "            minres = np.min(R[0][node1,:])\n",
    "            node2 = np.where(R[0][node1,:] == minres)\n",
    "            return N[node2[0][0]]\n",
    "        else:\n",
    "            raise ValueError(\"{} is not in network\".format(node))\n",
    "        \n",
    "    def add_link(self, name1, name2):\n",
    "        R = self.resistance\n",
    "        A = self.adjacency\n",
    "        N = self.names\n",
    "        if np.any(N[N == name1]) and np.any(N[N == name2]):\n",
    "            index1 = np.where(N==name1)[0][0]\n",
    "            index2 = np.where(N==name2)[0][0]\n",
    "            A[index1,index2] = A[index1,index2]+1\n",
    "            A[index2,index1] = A[index2,index1]+1\n",
    "            R = ef_res(A)\n",
    "            self.adjacency = A\n",
    "            self.resistance = R\n",
    "        else:\n",
    "            raise ValueError(\"{} or {} is not in network\".format(name1, name2))"
   ]
  },
  {
   "cell_type": "code",
   "execution_count": 7,
   "metadata": {},
   "outputs": [
    {
     "name": "stdout",
     "output_type": "stream",
     "text": [
      "(array(['Abigail'], dtype=object), array(['Oliver'], dtype=object))\n",
      "Carol\n",
      "Sonia\n",
      "Piers\n",
      "Abigail\n"
     ]
    }
   ],
   "source": [
    "data = LinkPredictor()\n",
    "print(data.predict_link())\n",
    "print(data.predict_link('Melanie'))\n",
    "print(data.predict_link('Alan'))\n",
    "data.add_link('Alan', 'Sonia')\n",
    "print(data.predict_link('Alan'))\n",
    "data.add_link('Alan', 'Piers')\n",
    "print(data.predict_link('Alan'))"
   ]
  }
 ],
 "metadata": {
  "kernelspec": {
   "display_name": "Python 3",
   "language": "python",
   "name": "python3"
  },
  "language_info": {
   "codemirror_mode": {
    "name": "ipython",
    "version": 3
   },
   "file_extension": ".py",
   "mimetype": "text/x-python",
   "name": "python",
   "nbconvert_exporter": "python",
   "pygments_lexer": "ipython3",
   "version": "3.6.1"
  }
 },
 "nbformat": 4,
 "nbformat_minor": 2
}
