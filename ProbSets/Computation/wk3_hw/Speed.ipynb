{
 "cells": [
  {
   "cell_type": "code",
   "execution_count": 1,
   "metadata": {},
   "outputs": [
    {
     "name": "stdout",
     "output_type": "stream",
     "text": [
      "0.66207\n",
      "2.1081888675689697\n"
     ]
    }
   ],
   "source": [
    "import matplotlib.pyplot as plt\n",
    "import numpy as np\n",
    "from numba import jit\n",
    "import time\n",
    "\n",
    "def series(n):\n",
    "    p, q = 0.9, 0.8\n",
    "    x = np.empty(n, dtype=int)\n",
    "    x[0] = 1  \n",
    "    U = np.random.uniform(0, 1, size=n)\n",
    "    for t in range(1, n):\n",
    "        if x[t - 1] == 0:\n",
    "            x[t] = np.random.choice(np.array([0, 1]), p = [p, 1 - p])\n",
    "        else:\n",
    "            x[t] = np.random.choice(np.array([0, 1]), p = [1 - q, q])\n",
    "    return x\n",
    "\n",
    "n = 100000\n",
    "start1 = time.time()\n",
    "x = series(n)\n",
    "end1 = time.time()\n",
    "print(np.mean(x == 0))\n",
    "print(end1 - start1)"
   ]
  },
  {
   "cell_type": "code",
   "execution_count": 2,
   "metadata": {},
   "outputs": [
    {
     "name": "stdout",
     "output_type": "stream",
     "text": [
      "0.65975\n",
      "2.7664170265197754\n"
     ]
    }
   ],
   "source": [
    "series_numba = jit(series)\n",
    "\n",
    "start2 = time.time()\n",
    "x1 = series_numba(n)\n",
    "end2 = time.time()\n",
    "print(np.mean(x1 == 0))\n",
    "print(end2 - start2)"
   ]
  },
  {
   "cell_type": "code",
   "execution_count": 3,
   "metadata": {
    "collapsed": true
   },
   "outputs": [],
   "source": [
    "%load_ext Cython"
   ]
  },
  {
   "cell_type": "code",
   "execution_count": 4,
   "metadata": {},
   "outputs": [
    {
     "name": "stdout",
     "output_type": "stream",
     "text": [
      "0.66092\n",
      "2.106001138687134\n"
     ]
    }
   ],
   "source": [
    "%%cython\n",
    "\n",
    "import numpy as np\n",
    "import time\n",
    "from numpy cimport int_t, float_t\n",
    "def series_cy(int n):\n",
    "    x_np = np.empty(n, dtype=int)\n",
    "    cdef int_t [:] x = x_np\n",
    "    cdef float p = 0.9\n",
    "    cdef float q = 0.8\n",
    "    cdef int t\n",
    "    x[0] = 1\n",
    "    for t in range(1, n):\n",
    "        current_x = x[t-1]\n",
    "        if x[t - 1] == 0:\n",
    "            x[t] = np.random.choice(np.array([0, 1]), p = [p, 1 - p])\n",
    "        else:\n",
    "            x[t] = np.random.choice(np.array([0, 1]), p = [1 - q, q])\n",
    "    return np.asarray(x)\n",
    "\n",
    "n = 100000\n",
    "start3 = time.time()\n",
    "x3 = series_cy(n)\n",
    "end3 = time.time()\n",
    "print(np.mean(x3 == 0))\n",
    "print(end3 - start3)"
   ]
  },
  {
   "cell_type": "markdown",
   "metadata": {
    "collapsed": true
   },
   "source": [
    "It seems that neither method helps much with the speed (they in fact make the process slower), possibly because numba and cython do not work well with numpy functions. If we try the solutions given on the website, we could see some differences. "
   ]
  },
  {
   "cell_type": "code",
   "execution_count": 5,
   "metadata": {},
   "outputs": [
    {
     "name": "stdout",
     "output_type": "stream",
     "text": [
      "10 loops, best of 3: 95.7 ms per loop\n",
      "The slowest run took 120.68 times longer than the fastest. This could mean that an intermediate result is being cached.\n",
      "1000 loops, best of 3: 1.64 ms per loop\n"
     ]
    }
   ],
   "source": [
    "p, q = 0.1, 0.2  # Prob of leaving low and high state respectively\n",
    "def compute_series(n):\n",
    "    x = np.empty(n, dtype=int)\n",
    "    x[0] = 1  # Start in state 1\n",
    "    U = np.random.uniform(0, 1, size=n)\n",
    "    for t in range(1, n):\n",
    "        current_x = x[t-1]\n",
    "        if current_x == 0:\n",
    "            x[t] = U[t] < p\n",
    "        else:\n",
    "            x[t] = U[t] > q\n",
    "    return x\n",
    "n = 100000\n",
    "%timeit compute_series(n)\n",
    "compute_series_numba = jit(compute_series)\n",
    "%timeit compute_series_numba(n)"
   ]
  },
  {
   "cell_type": "code",
   "execution_count": 7,
   "metadata": {},
   "outputs": [
    {
     "name": "stdout",
     "output_type": "stream",
     "text": [
      "The Cython extension is already loaded. To reload it, use:\n",
      "  %reload_ext Cython\n"
     ]
    }
   ],
   "source": [
    "%load_ext Cython"
   ]
  },
  {
   "cell_type": "code",
   "execution_count": 11,
   "metadata": {},
   "outputs": [],
   "source": [
    "%%cython\n",
    "import numpy as np\n",
    "from numpy cimport int_t, float_t\n",
    "\n",
    "def compute_series_cy(int n):\n",
    "    # == Create NumPy arrays first == #\n",
    "    x_np = np.empty(n, dtype=int)\n",
    "    U_np = np.random.uniform(0, 1, size=n)\n",
    "    # == Now create memoryviews of the arrays == #\n",
    "    cdef int_t [:] x = x_np\n",
    "    cdef float_t [:] U = U_np\n",
    "    # == Other variable declarations == #\n",
    "    cdef float p = 0.1\n",
    "    cdef float q = 0.2\n",
    "    cdef int t\n",
    "    # == Main loop == #\n",
    "    x[0] = 1\n",
    "    for t in range(1, n):\n",
    "        current_x = x[t-1]\n",
    "        if current_x == 0:\n",
    "            x[t] = U[t] < p\n",
    "        else:\n",
    "            x[t] = U[t] > q\n",
    "    return np.asarray(x)\n"
   ]
  },
  {
   "cell_type": "code",
   "execution_count": 12,
   "metadata": {},
   "outputs": [
    {
     "name": "stdout",
     "output_type": "stream",
     "text": [
      "100 loops, best of 3: 2.57 ms per loop\n"
     ]
    }
   ],
   "source": [
    "%timeit compute_series_cy(n)"
   ]
  }
 ],
 "metadata": {
  "kernelspec": {
   "display_name": "Python 3",
   "language": "python",
   "name": "python3"
  },
  "language_info": {
   "codemirror_mode": {
    "name": "ipython",
    "version": 3
   },
   "file_extension": ".py",
   "mimetype": "text/x-python",
   "name": "python",
   "nbconvert_exporter": "python",
   "pygments_lexer": "ipython3",
   "version": "3.6.1"
  }
 },
 "nbformat": 4,
 "nbformat_minor": 2
}
